{
 "cells": [
  {
   "cell_type": "code",
   "execution_count": 31,
   "id": "3e785738",
   "metadata": {},
   "outputs": [],
   "source": [
    "#!/usr/bin/env python3\n",
    "# -*- coding: utf-8 -*-\n",
    "\"\"\"\n",
    "Created on Sat Feb 26 16:11:15 2022\n",
    "\n",
    "@author: mcmahon\n",
    "\"\"\"\n",
    "\n",
    "from data_cleaning import HousePriceDF\n",
    "\n",
    "# Change to boolean columns\n",
    "\n",
    "HousePriceDF.Street = HousePriceDF.Street.map({'Pave': 1, 'Grvl':0})\n",
    "\n",
    "HousePriceDF.LotShape = HousePriceDF.LotShape.apply(lambda x: 1 if x == 'Reg' else 0)\n",
    "\n",
    "HousePriceDF.LandContour = HousePriceDF.LandContour.apply(lambda x: 1 if x == 'Lvl' else 0)\n",
    "\n",
    "HousePriceDF.Utilities = HousePriceDF.Utilities.apply(lambda x: 1 if x == 'AllPub' else 0)\n",
    "\n",
    "HousePriceDF.LandSlope = HousePriceDF.LandSlope.apply(lambda x: 1 if x == 'Gtl' else 0)\n",
    "\n",
    "HousePriceDF.CentralAir = HousePriceDF.CentralAir.map({'Y': 1, 'N':0})\n",
    "\n",
    "HousePriceDF.Electrical = HousePriceDF.Electrical.apply(lambda x: 1 if x == 'SBrkr' else 0)\n",
    "\n",
    "HousePriceDF.PavedDrive = HousePriceDF.PavedDrive.apply(lambda x: 1 if x == 'Y' else 0)\n",
    "\n",
    "HousePriceDF.SaleCondition = HousePriceDF.SaleCondition.apply(lambda x: 1 if x == 'Normal' else 0)\n",
    "\n",
    "\n",
    "\n",
    "# Encoding Bsmt columns \n",
    "BsmtCondDict = {'None':0,'Po':1,'Fa':2,'TA':3,'Gd':4,'Ex':5}\n",
    "HousePriceDF.replace({\"BsmtCond\": BsmtCondDict},inplace=True)\n",
    "HousePriceDF.replace({\"BsmtQual\": BsmtCondDict},inplace=True)\n",
    "\n",
    "BsmtFinType = {'None':0,'Unf':1,'LwQ':2,'Rec':3,'BLQ':4,'ALQ':5,'GLQ':6}\n",
    "HousePriceDF.replace({\"BsmtFinType1\": BsmtFinType,'BsmtFinType2':BsmtFinType},inplace=True)\n",
    "\n",
    "BsmtExpDict = {'None':0,'No': 1,'Mn':2,'Av':3,'Gd':4}\n",
    "HousePriceDF.replace({\"BsmtExposure\": BsmtExpDict},inplace=True)\n",
    "\n",
    "#Encoding Kitchen Quality \n",
    "\n",
    "QualDict = {'Po':0,'Fa':1,'TA':2,'Gd':3,'Ex':4}\n",
    "HousePriceDF.replace({\"KitchenQual\": QualDict},inplace=True)\n",
    "\n",
    "# Encoding Heating QC \n",
    "\n",
    "HousePriceDF.replace({\"HeatingQC\": QualDict},inplace=True)\n",
    "\n",
    "# Encoding Garage Qual/Condition\n",
    "\n",
    "GarageQDict = {'None': 0,'Po':0,'Fa':1,'TA':2,'Gd':3,'Ex':4}\n",
    "HousePriceDF.replace({\"GarageQual\": GarageQDict, 'GarageCond':GarageQDict},inplace=True)\n",
    "GarageFinDict = {'None':0, 'Unf':1,'RFn':2,\"Fin\":3}\n",
    "HousePriceDF.replace({\"GarageFinish\": GarageFinDict},inplace=True)\n",
    "\n",
    "# Encoding Exterior Quality \n",
    "\n",
    "HousePriceDF.replace({\"ExterQual\": QualDict,'ExterCond':QualDict},inplace=True)\n",
    "\n",
    "# Encoding Fireplace columns \n",
    "\n",
    "\n",
    "HousePriceDF.replace({\"FireplaceQu\": GarageQDict},inplace=True)"
   ]
  },
  {
   "cell_type": "code",
   "execution_count": 30,
   "id": "e47fb8a5",
   "metadata": {},
   "outputs": [
    {
     "data": {
      "text/plain": [
       "Norm      2228\n",
       "Feedr      137\n",
       "Artery      81\n",
       "RR          78\n",
       "Pos         56\n",
       "Name: Condition1, dtype: int64"
      ]
     },
     "execution_count": 30,
     "metadata": {},
     "output_type": "execute_result"
    }
   ],
   "source": [
    "HousePriceDF['Condition1'].value_counts()"
   ]
  },
  {
   "cell_type": "code",
   "execution_count": 17,
   "id": "abe978e7",
   "metadata": {},
   "outputs": [],
   "source": [
    "# Combining condition 1\n",
    "import numpy as np\n",
    "HousePriceDF['Condition1'] = np.where((HousePriceDF['Condition1'] == \"RRAn\") | \n",
    "                                      (HousePriceDF['Condition1'] == \"RRAe\") | \n",
    "                                      (HousePriceDF['Condition1'] == \"RRNn\") |\n",
    "                                      (HousePriceDF['Condition1'] == \"RRNe\"), \"RR\", HousePriceDF['Condition1'])\n",
    "HousePriceDF['Condition1'] = np.where((HousePriceDF['Condition1'] == \"PosN\") |\n",
    "                                       (HousePriceDF['Condition1'] == \"PosA\"), \"Pos\", HousePriceDF['Condition1'])"
   ]
  },
  {
   "cell_type": "code",
   "execution_count": 18,
   "id": "927de5c9",
   "metadata": {},
   "outputs": [
    {
     "data": {
      "text/plain": [
       "Norm      2228\n",
       "Feedr      137\n",
       "Artery      81\n",
       "RR          78\n",
       "Pos         56\n",
       "Name: Condition1, dtype: int64"
      ]
     },
     "execution_count": 18,
     "metadata": {},
     "output_type": "execute_result"
    }
   ],
   "source": [
    "HousePriceDF['Condition1'].value_counts()"
   ]
  },
  {
   "cell_type": "code",
   "execution_count": 19,
   "id": "599f93c3",
   "metadata": {},
   "outputs": [
    {
     "data": {
      "text/plain": [
       "Norm      2555\n",
       "Feedr       12\n",
       "PosN         3\n",
       "Artery       3\n",
       "PosA         3\n",
       "RRNn         2\n",
       "RRAn         1\n",
       "RRAe         1\n",
       "Name: Condition2, dtype: int64"
      ]
     },
     "execution_count": 19,
     "metadata": {},
     "output_type": "execute_result"
    }
   ],
   "source": [
    "HousePriceDF['Condition2'].value_counts()"
   ]
  },
  {
   "cell_type": "code",
   "execution_count": 2,
   "id": "fb14e9e9",
   "metadata": {},
   "outputs": [
    {
     "data": {
      "text/plain": [
       "Norm      2228\n",
       "Feedr      137\n",
       "Artery      81\n",
       "RRAn        40\n",
       "PosN        37\n",
       "RRAe        26\n",
       "PosA        19\n",
       "RRNn         8\n",
       "RRNe         4\n",
       "Name: Condition1, dtype: int64"
      ]
     },
     "execution_count": 2,
     "metadata": {},
     "output_type": "execute_result"
    }
   ],
   "source": [
    "HousePriceDF['Condition1'].value_counts()"
   ]
  },
  {
   "cell_type": "code",
   "execution_count": 3,
   "id": "8b0f5749",
   "metadata": {},
   "outputs": [
    {
     "data": {
      "text/plain": [
       "Norm      2228\n",
       "Feedr      137\n",
       "Artery      81\n",
       "RR          78\n",
       "Pos         56\n",
       "Name: Condition1, dtype: int64"
      ]
     },
     "execution_count": 3,
     "metadata": {},
     "output_type": "execute_result"
    }
   ],
   "source": [
    "# Condition 1\n",
    "Condition1Dict = {'Norm':'Norm','Feedr':'Feedr','Artery':'Artery','RRAn':'RR','PosN':'Pos','RRAe':'RR','PosA':'Pos','RRNn':'RR','RRNe':'RR'}\n",
    "HousePriceDF.replace({\"Condition1\": Condition1Dict}).Condition1.value_counts()"
   ]
  },
  {
   "cell_type": "code",
   "execution_count": 20,
   "id": "6572e834",
   "metadata": {},
   "outputs": [
    {
     "data": {
      "text/plain": [
       "Norm      2555\n",
       "Feedr       12\n",
       "Pos          6\n",
       "RR           4\n",
       "Artery       3\n",
       "Name: Condition2, dtype: int64"
      ]
     },
     "execution_count": 20,
     "metadata": {},
     "output_type": "execute_result"
    }
   ],
   "source": [
    "# Condition 2\n",
    "Condition2Dict = {'Norm':'Norm','Feedr':'Feedr','PosN':'Pos','Artery':'Artery','PosA':'Pos','RRNn':'RR','RRAn':'RR','RRAe':'RR'}\n",
    "HousePriceDF.replace({\"Condition2\": Condition2Dict}).Condition2.value_counts()"
   ]
  },
  {
   "cell_type": "code",
   "execution_count": null,
   "id": "177cda97",
   "metadata": {},
   "outputs": [],
   "source": []
  }
 ],
 "metadata": {
  "kernelspec": {
   "display_name": "Python 3 (ipykernel)",
   "language": "python",
   "name": "python3"
  },
  "language_info": {
   "codemirror_mode": {
    "name": "ipython",
    "version": 3
   },
   "file_extension": ".py",
   "mimetype": "text/x-python",
   "name": "python",
   "nbconvert_exporter": "python",
   "pygments_lexer": "ipython3",
   "version": "3.8.8"
  }
 },
 "nbformat": 4,
 "nbformat_minor": 5
}
