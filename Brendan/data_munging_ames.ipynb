{
 "cells": [
  {
   "cell_type": "code",
   "execution_count": null,
   "id": "0352c36e",
   "metadata": {},
   "outputs": [],
   "source": [
    "import pandas as pd \n",
    "import numpy as np \n",
    "pd.options.display.max_rows = 100"
   ]
  },
  {
   "cell_type": "code",
   "execution_count": null,
   "id": "2be690cc",
   "metadata": {},
   "outputs": [],
   "source": [
    "HousePriceDF = pd.read_csv(\"C:\\\\Users\\\\brend\\\\NYCDSA\\\\Projects\\\\Aimes-ML-Project\\\\Aimes-Iowa-ML\\\\Ames_HousePrice.csv\")"
   ]
  },
  {
   "cell_type": "code",
   "execution_count": null,
   "id": "e940f6af",
   "metadata": {},
   "outputs": [],
   "source": [
    "HousePriceDF.head(10)"
   ]
  },
  {
   "cell_type": "code",
   "execution_count": null,
   "id": "9742cf65",
   "metadata": {},
   "outputs": [],
   "source": [
    "HousePriceDF.isna().sum()"
   ]
  },
  {
   "cell_type": "code",
   "execution_count": null,
   "id": "f86fe957",
   "metadata": {},
   "outputs": [],
   "source": [
    "print(HousePriceDF.Fence.isna().sum()/len(HousePriceDF.Fence))\n",
    "print(HousePriceDF.PoolQC.isna().sum()/len(HousePriceDF.PoolQC))\n",
    "print(HousePriceDF.Alley.isna().sum()/len(HousePriceDF.Alley))\n",
    "print(HousePriceDF.MiscFeature .isna().sum()/len(HousePriceDF.MiscFeature ))\n",
    "print(HousePriceDF.FireplaceQu .isna().sum()/len(HousePriceDF.FireplaceQu ))"
   ]
  },
  {
   "cell_type": "code",
   "execution_count": null,
   "id": "4c282604",
   "metadata": {},
   "outputs": [],
   "source": [
    "HousePriceDF=HousePriceDF.drop(['Alley','Fence','MiscFeature','PoolQC'],axis =1 )"
   ]
  },
  {
   "cell_type": "code",
   "execution_count": null,
   "id": "42dbe6d1",
   "metadata": {},
   "outputs": [],
   "source": [
    "HousePriceDF.columns"
   ]
  },
  {
   "cell_type": "code",
   "execution_count": null,
   "id": "f4ceb444",
   "metadata": {},
   "outputs": [],
   "source": [
    "HousePriceDF.groupby('Neighborhood').mean()\n",
    "HousePriceDF['LotFrontage'] = HousePriceDF['LotFrontage'].fillna(HousePriceDF.groupby('Neighborhood')['LotFrontage'].transform('mean'))"
   ]
  },
  {
   "cell_type": "code",
   "execution_count": null,
   "id": "6e5ca114",
   "metadata": {},
   "outputs": [],
   "source": [
    "HousePriceDF.LotFrontage.isna().sum()\n",
    "HousePriceDF.loc[HousePriceDF['Neighborhood'].isin(['Landmrk','GrnHill'])]"
   ]
  },
  {
   "cell_type": "code",
   "execution_count": null,
   "id": "6ee32c0a",
   "metadata": {},
   "outputs": [],
   "source": [
    "HousePriceDF.dtypes"
   ]
  },
  {
   "cell_type": "code",
   "execution_count": null,
   "id": "8f01ca2f",
   "metadata": {},
   "outputs": [],
   "source": [
    "cor = HousePriceDF.corr()\n",
    "cor['SalePrice'].sort_values(ascending=False)"
   ]
  },
  {
   "cell_type": "code",
   "execution_count": null,
   "id": "99bd8744",
   "metadata": {},
   "outputs": [],
   "source": []
  },
  {
   "cell_type": "code",
   "execution_count": null,
   "id": "b092f2ea",
   "metadata": {},
   "outputs": [],
   "source": []
  },
  {
   "cell_type": "code",
   "execution_count": null,
   "id": "5ad476ef",
   "metadata": {},
   "outputs": [],
   "source": []
  },
  {
   "cell_type": "code",
   "execution_count": null,
   "id": "14b5b1a7",
   "metadata": {},
   "outputs": [],
   "source": []
  },
  {
   "cell_type": "code",
   "execution_count": null,
   "id": "e434f9d2",
   "metadata": {},
   "outputs": [],
   "source": []
  }
 ],
 "metadata": {
  "kernelspec": {
   "display_name": "Python 3",
   "language": "python",
   "name": "python3"
  },
  "language_info": {
   "codemirror_mode": {
    "name": "ipython",
    "version": 3
   },
   "file_extension": ".py",
   "mimetype": "text/x-python",
   "name": "python",
   "nbconvert_exporter": "python",
   "pygments_lexer": "ipython3",
   "version": "3.8.8"
  }
 },
 "nbformat": 4,
 "nbformat_minor": 5
}
