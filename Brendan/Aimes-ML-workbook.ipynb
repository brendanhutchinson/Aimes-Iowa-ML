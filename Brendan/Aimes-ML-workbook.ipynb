{
 "cells": [
  {
   "cell_type": "code",
   "execution_count": null,
   "id": "872e00c8",
   "metadata": {},
   "outputs": [],
   "source": [
    "import pandas as pd \n",
    "import numpy as np \n",
    "import plotly.express as px \n",
    "from sklearn.linear_model import LinearRegression, Ridge, Lasso, ElasticNet, LogisticRegression\n",
    "from scipy import stats\n",
    "\n",
    "pd.set_option('display.max_rows', 500)"
   ]
  },
  {
   "cell_type": "markdown",
   "id": "b8d18990",
   "metadata": {},
   "source": [
    "## data cleaning and EDA "
   ]
  },
  {
   "cell_type": "code",
   "execution_count": null,
   "id": "7830c4bf",
   "metadata": {},
   "outputs": [],
   "source": [
    "HousePriceDF = pd.read_csv(\"C:\\\\Users\\\\brend\\\\NYCDSA\\\\Projects\\\\Aimes-ML-Project\\\\Aimes-Iowa-ML\\\\Ames_HousePrice.csv\")"
   ]
  },
  {
   "cell_type": "code",
   "execution_count": null,
   "id": "c43d2d0b",
   "metadata": {},
   "outputs": [],
   "source": [
    "HousePriceDF.head(10)"
   ]
  },
  {
   "cell_type": "code",
   "execution_count": null,
   "id": "197d77af",
   "metadata": {
    "scrolled": true
   },
   "outputs": [],
   "source": [
    "HousePriceDF.isna().sum()"
   ]
  },
  {
   "cell_type": "code",
   "execution_count": null,
   "id": "d9e0f32c",
   "metadata": {
    "scrolled": true
   },
   "outputs": [],
   "source": [
    "print(HousePriceDF.Fence.isna().sum()/len(HousePriceDF.Fence))\n",
    "print(HousePriceDF.PoolQC.isna().sum()/len(HousePriceDF.PoolQC))\n",
    "print(HousePriceDF.Alley.isna().sum()/len(HousePriceDF.Alley))\n",
    "print(HousePriceDF.MiscFeature .isna().sum()/len(HousePriceDF.MiscFeature ))\n",
    "print(HousePriceDF.FireplaceQu .isna().sum()/len(HousePriceDF.FireplaceQu ))\n"
   ]
  },
  {
   "cell_type": "code",
   "execution_count": null,
   "id": "6a2615b2",
   "metadata": {},
   "outputs": [],
   "source": [
    "HousePriceDF=HousePriceDF.drop(['Alley','Fence','MiscFeature','PoolQC'],axis =1)\n",
    "\n"
   ]
  },
  {
   "cell_type": "code",
   "execution_count": null,
   "id": "0ef7b2ff",
   "metadata": {},
   "outputs": [],
   "source": [
    "HousePriceDF.columns"
   ]
  },
  {
   "cell_type": "code",
   "execution_count": null,
   "id": "d47d20de",
   "metadata": {},
   "outputs": [],
   "source": [
    "HousePriceDF.groupby('Neighborhood').mean()\n",
    "HousePriceDF['LotFrontage'] = HousePriceDF['LotFrontage'].fillna(HousePriceDF.groupby('Neighborhood')['LotFrontage'].transform('mean'))"
   ]
  },
  {
   "cell_type": "code",
   "execution_count": null,
   "id": "b9623117",
   "metadata": {
    "scrolled": true
   },
   "outputs": [],
   "source": [
    "\n",
    "HousePriceDF.loc[HousePriceDF['Neighborhood'].isin(['Landmrk','GrnHill'])]\n"
   ]
  },
  {
   "cell_type": "code",
   "execution_count": null,
   "id": "77ef2b01",
   "metadata": {
    "scrolled": true
   },
   "outputs": [],
   "source": [
    "HousePriceDF.loc[HousePriceDF['Neighborhood'] == 'Landmrk']\n",
    "HousePriceDF.iloc[1204,6] = 29.0"
   ]
  },
  {
   "cell_type": "code",
   "execution_count": null,
   "id": "d8162b43",
   "metadata": {},
   "outputs": [],
   "source": [
    "HousePriceDF.loc[HousePriceDF['Neighborhood'] == 'Landmrk']"
   ]
  },
  {
   "cell_type": "code",
   "execution_count": null,
   "id": "9e686ac2",
   "metadata": {},
   "outputs": [],
   "source": [
    "HousePriceDF.loc[HousePriceDF['Neighborhood'] == 'GrnHill']"
   ]
  },
  {
   "cell_type": "code",
   "execution_count": null,
   "id": "b417e18a",
   "metadata": {},
   "outputs": [],
   "source": [
    "HousePriceDF.iloc[:,6]"
   ]
  },
  {
   "cell_type": "code",
   "execution_count": null,
   "id": "055f76e9",
   "metadata": {},
   "outputs": [],
   "source": [
    "lotrow = [109,683]\n",
    "HousePriceDF.loc[HousePriceDF['MSSubClass']==120, ['LotFrontage']].mean()\n",
    "HousePriceDF.loc[HousePriceDF['MSSubClass']==160, ['LotFrontage']].mean()"
   ]
  },
  {
   "cell_type": "code",
   "execution_count": null,
   "id": "0f4ae9f6",
   "metadata": {},
   "outputs": [],
   "source": [
    "HousePriceDF.loc[lotrow,['LotFrontage']]  = 46.0 # HousePriceDF.loc[HousePriceDF['MSSubClass']==120,['LotFrontage']].mean()"
   ]
  },
  {
   "cell_type": "code",
   "execution_count": null,
   "id": "0915172c",
   "metadata": {},
   "outputs": [],
   "source": [
    "HousePriceDF.loc[lotrow,['LotFrontage']]"
   ]
  },
  {
   "cell_type": "code",
   "execution_count": null,
   "id": "4074dca4",
   "metadata": {},
   "outputs": [],
   "source": [
    "num_2 = ['YearBuilt', 'YrSinceRm', 'TotalSF', 'BsmtUnfSF' , 'WoodDeckSF', 'GarageArea', '2ndFlrSF', \n",
    "          'ScreenPorch', 'GrLivArea', 'BsmtFinSF1', 'MasVnrArea', 'LotArea', 'Pool', 'Utilities']\n",
    "\n",
    "cat_2 = ['Neighborhood', 'MSSubClass', 'Condition1', 'Condition2', 'RoofMatl', 'Exterior1st', \n",
    "         'Exterior2nd', 'HouseStyle', 'GarageType']\n",
    "break"
   ]
  },
  {
   "cell_type": "code",
   "execution_count": null,
   "id": "6fd34cab",
   "metadata": {},
   "outputs": [],
   "source": [
    "cor['TotalBsmtSF'].sort_values(ascending = False)"
   ]
  },
  {
   "cell_type": "markdown",
   "id": "d28b20d4",
   "metadata": {},
   "source": [
    "## correlations"
   ]
  },
  {
   "cell_type": "code",
   "execution_count": null,
   "id": "811f4c1f",
   "metadata": {
    "scrolled": true
   },
   "outputs": [],
   "source": [
    "cor = HousePriceDF.corr()\n",
    "cor['SalePrice'].sort_values(ascending=False)\n",
    "# HousePriceDF.corrwith(HousePriceDF['SalePrice']).sort_values(ascending = False)\n"
   ]
  },
  {
   "cell_type": "code",
   "execution_count": null,
   "id": "9cc37b7f",
   "metadata": {},
   "outputs": [],
   "source": [
    "fig1 = px.imshow(cor[['SalePrice', 'OverallQual','GrLivArea', 'TotalBsmtSF'  , '1stFlrSF'   , 'GarageCars'  ,  \n",
    "'GarageArea' ,   \n",
    "'YearBuilt'   , \n",
    "'FullBath',\n",
    "'GarageYrBlt',    \n",
    "'YearRemodAdd' ,  \n",
    "'MasVnrArea'    ,  \n",
    "'TotRmsAbvGrd'   , \n",
    "'Fireplaces'    ,\n",
    "'BsmtFinSF1'      ,\n",
    "'LotFrontage'   ,\n",
    "'WoodDeckSF'      ,\n",
    "'OpenPorchSF'     ,\n",
    "'BsmtFullBath'   ,\n",
    "'HalfBath']])\n",
    "\n",
    "fig1.show()"
   ]
  },
  {
   "cell_type": "code",
   "execution_count": null,
   "id": "8e9fe5f9",
   "metadata": {},
   "outputs": [],
   "source": []
  },
  {
   "cell_type": "code",
   "execution_count": null,
   "id": "b47b8ea4",
   "metadata": {},
   "outputs": [],
   "source": []
  },
  {
   "cell_type": "code",
   "execution_count": null,
   "id": "2ba87306",
   "metadata": {},
   "outputs": [],
   "source": [
    "HousePriceDF.iloc[:,30:40].isna().sum()\n"
   ]
  },
  {
   "cell_type": "code",
   "execution_count": null,
   "id": "317f4c45",
   "metadata": {},
   "outputs": [],
   "source": [
    "px.scatter(HousePriceDF,x='GrLivArea', y = 'SalePrice',trendline = 'ols')"
   ]
  },
  {
   "cell_type": "code",
   "execution_count": null,
   "id": "13712317",
   "metadata": {},
   "outputs": [],
   "source": [
    "px.scatter(HousePriceDF,x='TotalBsmtSF', y = 'SalePrice',trendline = 'ols')"
   ]
  },
  {
   "cell_type": "code",
   "execution_count": null,
   "id": "2f224865",
   "metadata": {},
   "outputs": [],
   "source": [
    "px.scatter(HousePriceDF,x='1stFlrSF', y = 'SalePrice',trendline='ols')"
   ]
  },
  {
   "cell_type": "code",
   "execution_count": null,
   "id": "53c93943",
   "metadata": {
    "scrolled": true
   },
   "outputs": [],
   "source": [
    "px.scatter(HousePriceDF,x='GarageArea', y = 'SalePrice',trendline='ols')"
   ]
  },
  {
   "cell_type": "code",
   "execution_count": null,
   "id": "ef02b3a4",
   "metadata": {},
   "outputs": [],
   "source": [
    "px.scatter(HousePriceDF,x='GarageArea', y = 'SalePrice',trendline='ols')"
   ]
  },
  {
   "cell_type": "code",
   "execution_count": null,
   "id": "9041bd4a",
   "metadata": {},
   "outputs": [],
   "source": [
    "px.histogram(HousePriceDF,x = HousePriceDF.SalePrice)"
   ]
  },
  {
   "cell_type": "code",
   "execution_count": null,
   "id": "6c4ec41f",
   "metadata": {
    "scrolled": true
   },
   "outputs": [],
   "source": [
    "\n",
    "px.histogram(HousePriceDF,x = np.log(HousePriceDF.SalePrice))"
   ]
  },
  {
   "cell_type": "code",
   "execution_count": null,
   "id": "e0b65c07",
   "metadata": {},
   "outputs": [],
   "source": [
    "## feature engineering/manipulation options \n",
    "\n",
    "has garage\n",
    "has fireplace\n",
    "distances - school - airport - distance to downtown  \n",
    "total - SQFT \n",
    "\n",
    "\n",
    "\n",
    "\n"
   ]
  },
  {
   "cell_type": "code",
   "execution_count": null,
   "id": "2eea3e9f",
   "metadata": {},
   "outputs": [],
   "source": [
    "HousePriceDF.columns"
   ]
  },
  {
   "cell_type": "code",
   "execution_count": null,
   "id": "a79a2889",
   "metadata": {
    "scrolled": true
   },
   "outputs": [],
   "source": [
    "HousePriceDF['BsmtQual'][HousePriceDF.Foundation == 'Slab'] = \"None\"\n",
    "HousePriceDF['BsmtExposure'][HousePriceDF.Foundation == 'Slab'] = \"None\"\n",
    "HousePriceDF['BsmtCond'][HousePriceDF.Foundation == 'Slab'] = \"None\"\n",
    "HousePriceDF['BsmtFinType1'][HousePriceDF.Foundation == 'Slab'] = \"None\""
   ]
  },
  {
   "cell_type": "code",
   "execution_count": null,
   "id": "7a049fe0",
   "metadata": {
    "scrolled": true
   },
   "outputs": [],
   "source": [
    "# HousePriceDF.loc[(HousePriceDF['Foundation'] == 'Slab')|(HousePriceDF['BsmtFinSF1']== '0')]"
   ]
  },
  {
   "cell_type": "code",
   "execution_count": null,
   "id": "7e886a8a",
   "metadata": {},
   "outputs": [],
   "source": [
    "HousePriceDF.iloc[:,30:40].isna().sum()"
   ]
  },
  {
   "cell_type": "code",
   "execution_count": null,
   "id": "4c48681f",
   "metadata": {
    "scrolled": true
   },
   "outputs": [],
   "source": [
    "HousePriceDF.iloc[:,32:37]"
   ]
  },
  {
   "cell_type": "code",
   "execution_count": null,
   "id": "e1043f5f",
   "metadata": {},
   "outputs": [],
   "source": []
  },
  {
   "cell_type": "code",
   "execution_count": null,
   "id": "c0b4ae92",
   "metadata": {
    "scrolled": false
   },
   "outputs": [],
   "source": [
    "HousePriceDF.loc[(HousePriceDF['BsmtFinSF1']== 0),32:36] = \"None\""
   ]
  },
  {
   "cell_type": "code",
   "execution_count": null,
   "id": "3e424057",
   "metadata": {},
   "outputs": [],
   "source": [
    "HousePriceDF.loc[(HousePriceDF['BsmtFinSF1']== 0),'BsmtFinType2' ] = \"None\""
   ]
  },
  {
   "cell_type": "code",
   "execution_count": null,
   "id": "2ff48125",
   "metadata": {},
   "outputs": [],
   "source": [
    "# HousePriceDF.iloc[2434,] = \"None\""
   ]
  },
  {
   "cell_type": "code",
   "execution_count": null,
   "id": "3493b117",
   "metadata": {},
   "outputs": [],
   "source": [
    "HousePriceDF.iloc[2434,37] = 'Unf'"
   ]
  },
  {
   "cell_type": "code",
   "execution_count": null,
   "id": "7eba505f",
   "metadata": {},
   "outputs": [],
   "source": [
    "HousePriceDF['BsmtQual'][HousePriceDF.Foundation == 'Slab'] = \"None\"\n",
    "HousePriceDF['BsmtExposure'][HousePriceDF.Foundation == 'Slab'] = \"None\"\n",
    "HousePriceDF['BsmtCond'][HousePriceDF.Foundation == 'Slab'] = \"None\"\n",
    "HousePriceDF['BsmtFinType1'][HousePriceDF.Foundation == 'Slab'] = \"None\""
   ]
  },
  {
   "cell_type": "code",
   "execution_count": null,
   "id": "989a821c",
   "metadata": {},
   "outputs": [],
   "source": [
    "HousePriceDF.iloc[:,32:45].isna().sum()"
   ]
  },
  {
   "cell_type": "code",
   "execution_count": null,
   "id": "100c0368",
   "metadata": {},
   "outputs": [],
   "source": [
    "HousePriceDF.Foundation.unique()\n",
    "HousePriceDF.iloc[900:940,30:42]"
   ]
  },
  {
   "cell_type": "code",
   "execution_count": null,
   "id": "434595ef",
   "metadata": {},
   "outputs": [],
   "source": [
    "HousePriceDF.iloc[:,32:41][HousePriceDF.BsmtFinSF2.isna()]"
   ]
  },
  {
   "cell_type": "code",
   "execution_count": null,
   "id": "1c6302b8",
   "metadata": {},
   "outputs": [],
   "source": [
    "HousePriceDF.loc[(HousePriceDF['BsmtFinSF1']== 0),32:36] = \"None\""
   ]
  },
  {
   "cell_type": "code",
   "execution_count": null,
   "id": "c0a46453",
   "metadata": {},
   "outputs": [],
   "source": [
    "HousePriceDF.iloc[912,32:36] = \"None\""
   ]
  },
  {
   "cell_type": "code",
   "execution_count": null,
   "id": "77ab726a",
   "metadata": {},
   "outputs": [],
   "source": [
    "HousePriceDF.iloc[911:920,32:41]"
   ]
  },
  {
   "cell_type": "code",
   "execution_count": null,
   "id": "6ef7ed2e",
   "metadata": {},
   "outputs": [],
   "source": [
    "HousePriceDF.iloc[900:915:,32:40]"
   ]
  },
  {
   "cell_type": "code",
   "execution_count": null,
   "id": "fc44ca61",
   "metadata": {},
   "outputs": [],
   "source": [
    "HousePriceDF['BsmtFinType1'][HousePriceDF.BsmtFinSF1 == '0'] = \"None\""
   ]
  },
  {
   "cell_type": "code",
   "execution_count": null,
   "id": "a72ef24c",
   "metadata": {},
   "outputs": [],
   "source": [
    "HousePriceDF.isna().sum()"
   ]
  },
  {
   "cell_type": "code",
   "execution_count": null,
   "id": "70c9b6f0",
   "metadata": {},
   "outputs": [],
   "source": [
    "HousePriceDF.iloc[:,59:67]"
   ]
  },
  {
   "cell_type": "code",
   "execution_count": null,
   "id": "5cd84405",
   "metadata": {},
   "outputs": [],
   "source": [
    "np.where(HousePriceDF.MasVnrType.isna())"
   ]
  },
  {
   "cell_type": "code",
   "execution_count": null,
   "id": "e73b9253",
   "metadata": {},
   "outputs": [],
   "source": [
    "HousePriceDF.iloc[358,27:29] = 'None'\n",
    "HousePriceDF.iloc[1355,27:29] = 'None'"
   ]
  },
  {
   "cell_type": "code",
   "execution_count": null,
   "id": "de422358",
   "metadata": {},
   "outputs": [],
   "source": [
    "VinMissing = [175,  358,  753,  787,  871,  891,  951, 1041, 1161, 1355, 1553,\n",
    "        2033, 2477, 2536]\n",
    "VinMisCOl = [27,29]\n",
    "House"
   ]
  },
  {
   "cell_type": "code",
   "execution_count": null,
   "id": "9d23ccab",
   "metadata": {
    "scrolled": false
   },
   "outputs": [],
   "source": [
    "HousePriceDF.loc[(HousePriceDF['Exterior2nd']== 'VinylSd' )&(HousePriceDF.MasVnrType.isna()==True), ['MasVnrType', 'MasVnrArea']] = 'None'\n",
    "HousePriceDF.loc[(HousePriceDF['Exterior2nd']== 'VinylSd' )&(HousePriceDF.MasVnrType.isna()==True), ['MasVnrType', 'MasVnrArea']]"
   ]
  },
  {
   "cell_type": "code",
   "execution_count": null,
   "id": "d73789e4",
   "metadata": {},
   "outputs": [],
   "source": [
    "HousePriceDF.iloc[2442,44] = 'SBrkr'"
   ]
  },
  {
   "cell_type": "code",
   "execution_count": null,
   "id": "d377fd17",
   "metadata": {},
   "outputs": [],
   "source": [
    "HousePriceDF.iloc[949:1500,27:29]"
   ]
  },
  {
   "cell_type": "code",
   "execution_count": null,
   "id": "561406b7",
   "metadata": {},
   "outputs": [],
   "source": [
    "HousePriceDF['Condition2'].values_counts()"
   ]
  },
  {
   "cell_type": "code",
   "execution_count": null,
   "id": "251052d0",
   "metadata": {},
   "outputs": [],
   "source": [
    "HousePriceDF.iloc[2308,48:50] "
   ]
  },
  {
   "cell_type": "code",
   "execution_count": null,
   "id": "7624a8c0",
   "metadata": {},
   "outputs": [],
   "source": [
    "HousePriceDF.iloc[912,48:50] = 0"
   ]
  },
  {
   "cell_type": "code",
   "execution_count": null,
   "id": "ad36b84b",
   "metadata": {},
   "outputs": [],
   "source": [
    "HousePriceDF.iloc[2308,48:50] = 0"
   ]
  },
  {
   "cell_type": "code",
   "execution_count": null,
   "id": "52feb1f4",
   "metadata": {},
   "outputs": [],
   "source": [
    "HousePriceDF.MSSubClass.value_counts()"
   ]
  },
  {
   "cell_type": "code",
   "execution_count": null,
   "id": "c8d75144",
   "metadata": {},
   "outputs": [],
   "source": [
    "# roof material \n",
    "roofdict = {'WdShake': 'wood','WdShngl' :'wood','Metal':'other','Roll':'other','Membran':'other'}\n",
    "HousePriceDF.replace({\"RoofMatl\": roofdict},inplace=True)\n",
    "\n",
    "\n",
    "\n",
    "## heating \n",
    "heatingdict = {'Grav':'other','Wall':'other','OthW':'other','Floor':'other'}\n",
    "HousePriceDF.replace({\"Heating\": heatingdict},inplace=True)\n",
    "\n",
    "\n",
    "\n",
    "# functional \n",
    "funct_dict = {'Typ':0, 'Min1':1,'Min2':2,'Mod':3,'Maj1':4,'Maj2':5,'Sal':6}\n",
    "HousePriceDF.replace({\"Functional\": funct_dict},inplace=True)\n",
    "\n",
    "## foundation\n",
    "found_dict = {'Stone':'other','Wood':'other'}\n",
    "HousePriceDF.replace({\"Foundation\": found_dict},inplace=True)\n",
    "\n",
    "## Sale type \n",
    "SaleTypeDict = {'New':'New','COD':'COD','ConLD':'Con','CWD':'WD','ConLI':'Con','Con':'Con','Oth':'Con','VWD':'WD','ConLw':'Con','WD ':'WD'}\n",
    "HousePriceDF.replace({\"SaleType\": SaleTypeDict},inplace = True)"
   ]
  },
  {
   "cell_type": "code",
   "execution_count": null,
   "id": "3a97ac0e",
   "metadata": {},
   "outputs": [],
   "source": [
    "## MSSUB class int - string \n",
    "HousePriceDF['MSSubClass'] = HousePriceDF['MSSubClass'].astype('str')\n",
    "\n",
    "## MSZoning\n",
    "MSZoningDict = {'RL':'RL', 'C (all)':'Other', 'RM':'RM', 'FV':'FV', 'RH':'RH', 'I (all)':'Other', 'A (agr)':'Other'}\n",
    "HousePriceDF.replace({\"MSZoning\":MSZoningDict},inplace = True)"
   ]
  },
  {
   "cell_type": "code",
   "execution_count": null,
   "id": "085f46c5",
   "metadata": {
    "scrolled": true
   },
   "outputs": [],
   "source": [
    "HousePriceDF.Exterior1st.value_counts()"
   ]
  },
  {
   "cell_type": "code",
   "execution_count": null,
   "id": "9f901aa4",
   "metadata": {},
   "outputs": [],
   "source": [
    "HousePriceDF.Exterior1st = HousePriceDF.Exterior1st.map({\n",
    "    'VinylSd' : 'VinylSd', \n",
    "    'HdBoard' : 'CompBoard', \n",
    "    'MetalSd' : 'MetalSd', \n",
    "    'Wd Sdng' : 'Wood', \n",
    "    'Plywood' : 'Wood', \n",
    "    'WdShing' : 'Wood',\n",
    "    'CemntBd' : 'CompBoard', \n",
    "    'BrkComm' : 'Brick', \n",
    "    'BrkFace' : 'Brick', \n",
    "    'Stucco' : 'Cement', \n",
    "    'ImStucc' : 'Cement', \n",
    "    'PreCast' : 'Cement', \n",
    "    'CBlock' : 'Cement', \n",
    "    'AsphShn' :'Other', \n",
    "    'AsbShng' : 'Other'})"
   ]
  },
  {
   "cell_type": "code",
   "execution_count": null,
   "id": "b84b2cb8",
   "metadata": {},
   "outputs": [],
   "source": [
    "#replacing Houses with 3 and 4 fireplaces to 2\n",
    "#Represented as 2 and not '2+' so that all values remain numeric\n",
    "FireplacesDict = {0:0,1:1,2:2,3:2,4:2}\n",
    "HousePriceDF.replace({\"Fireplaces\": FireplacesDict}, inplace=True)"
   ]
  },
  {
   "cell_type": "code",
   "execution_count": null,
   "id": "ce8770bc",
   "metadata": {},
   "outputs": [],
   "source": [
    "HousePriceDF.merge(Ames_loc, left_on = 'PID',right_on = 'MapGeoRef')"
   ]
  },
  {
   "cell_type": "markdown",
   "id": "44e8516c",
   "metadata": {},
   "source": [
    "tbdummified = ( 'MSSubClass',\n",
    "'MSZoning',\n",
    "'Neighberhood','LotConfig','Condition1',\n",
    "'Condition2','Exterior1st',\n",
    "'Exterior2nd','BldgType', 'HouseStyle','RoofStyle',\n",
    "'MasVnrType','Heating','Functional',\n",
    "'GarageType','Foundation','Fireplaces')\n",
    "\n",
    "tbdropped = ( 'MiscVal', 'Unnamed: 0')"
   ]
  },
  {
   "cell_type": "markdown",
   "id": "f6e2c019",
   "metadata": {},
   "source": [
    "##  LAtitude LONGITUDE"
   ]
  },
  {
   "cell_type": "code",
   "execution_count": null,
   "id": "109bdf86",
   "metadata": {},
   "outputs": [],
   "source": [
    "cd  \"C:\\Users\\brend\\NYCDSA\\Projects\\Aimes-ML-Project\\Aimes-Iowa-ML\""
   ]
  },
  {
   "cell_type": "code",
   "execution_count": null,
   "id": "fcf88d05",
   "metadata": {
    "scrolled": true
   },
   "outputs": [],
   "source": [
    "mapdata = pd.read_csv('Ames Real Estate Data.csv')"
   ]
  },
  {
   "cell_type": "code",
   "execution_count": null,
   "id": "4dc2a2af",
   "metadata": {
    "scrolled": true
   },
   "outputs": [],
   "source": [
    "run data_cleaning.py"
   ]
  },
  {
   "cell_type": "code",
   "execution_count": null,
   "id": "b9ebb7e1",
   "metadata": {},
   "outputs": [],
   "source": [
    "run manipulation"
   ]
  },
  {
   "cell_type": "code",
   "execution_count": null,
   "id": "365494dc",
   "metadata": {},
   "outputs": [],
   "source": []
  },
  {
   "cell_type": "code",
   "execution_count": null,
   "id": "b14b39e1",
   "metadata": {
    "scrolled": true
   },
   "outputs": [],
   "source": [
    "for i in HousePriceDF: \n",
    "    if HousePriceDF[i].dtypes == 'object':\n",
    "        print(HousePriceDF[i].value_counts())"
   ]
  },
  {
   "cell_type": "code",
   "execution_count": null,
   "id": "a0021ca4",
   "metadata": {
    "scrolled": true
   },
   "outputs": [],
   "source": [
    "HousePriceDF.merge(mapdata, left_on = 'PID', right_on = 'MapRefNo',how = 'inner').isna().sum()"
   ]
  },
  {
   "cell_type": "code",
   "execution_count": null,
   "id": "a19a18d1",
   "metadata": {},
   "outputs": [],
   "source": [
    "HousePriceDF.shape"
   ]
  },
  {
   "cell_type": "code",
   "execution_count": null,
   "id": "ea0ec95a",
   "metadata": {},
   "outputs": [],
   "source": [
    "DF.LotShape.value_counts()"
   ]
  },
  {
   "cell_type": "code",
   "execution_count": null,
   "id": "98365d75",
   "metadata": {
    "scrolled": true
   },
   "outputs": [],
   "source": [
    "locationdf = mapdata[['SchD_S', 'Prop_Addr', 'GeoRefNo' ,'MapRefNo']]\n",
    "\n",
    "HousePriceDF.merge(locationdf, left_on = 'PID', right_on = 'MapRefNo',how = 'left').size\n",
    "\n",
    "DF = HousePriceDF.merge(locationdf, left_on = 'PID', right_on = 'MapRefNo',how = 'inner')\n"
   ]
  },
  {
   "cell_type": "code",
   "execution_count": null,
   "id": "018270db",
   "metadata": {},
   "outputs": [],
   "source": [
    "df =pd.read_csv('totaldf.csv')"
   ]
  },
  {
   "cell_type": "code",
   "execution_count": null,
   "id": "02f58565",
   "metadata": {},
   "outputs": [],
   "source": [
    "df.drop('HouseAdress',axis =1,inplace = True)"
   ]
  },
  {
   "cell_type": "code",
   "execution_count": null,
   "id": "49d7280d",
   "metadata": {},
   "outputs": [],
   "source": [
    "len(DF.Prop_Addr)\n",
    "2603/2"
   ]
  },
  {
   "cell_type": "code",
   "execution_count": null,
   "id": "af426f54",
   "metadata": {},
   "outputs": [],
   "source": [
    "user_agent1 = 'Mozilla/5.0 (Windows NT 10.0; Win64; x64) AppleWebKit/537.36 (KHTML, like Gecko) Chrome/98.0.4758.102 Safari/537.36'"
   ]
  },
  {
   "cell_type": "code",
   "execution_count": null,
   "id": "cc4f0d36",
   "metadata": {},
   "outputs": [],
   "source": []
  },
  {
   "cell_type": "code",
   "execution_count": null,
   "id": "c13735ba",
   "metadata": {
    "scrolled": false
   },
   "outputs": [],
   "source": [
    "import geopy \n",
    "from geopy.geocoders import Nominatim\n",
    "\n",
    "lat = DF['Prop_Addr'][:700].apply(lambda x: geolocator.geocode(x).latitude if geolocator.geocode(x) != None else 'NF')\n",
    "long = DF['Prop_Addr'][:700].apply(lambda x: geolocator.geocode(x).longitude if geolocator.geocode(x) != None else 'NF')\n",
    "\n",
    "\n",
    "\n",
    "lat1 = DF['Prop_Addr'][700:1200].apply(lambda x: geolocator.geocode(x).latitude if geolocator.geocode(x) != None else 'NF')\n",
    "long1 = DF['Prop_Addr'][700:1200].apply(lambda x: geolocator.geocode(x).longitude if geolocator.geocode(x) != None else 'NF')\n",
    "\n",
    "lat2 = DF['Prop_Addr'][1200:1900].apply(lambda x: geolocator.geocode(x).latitude if geolocator.geocode(x) != None else 'NF')\n",
    "long2 = DF['Prop_Addr'][1200:1900].apply(lambda x: geolocator.geocode(x).longitude if geolocator.geocode(x) != None else 'NF')\n",
    "\n",
    "\n",
    "lat3 = DF['Prop_Addr'][1900:].apply(lambda x: geolocator.geocode(x).latitude if geolocator.geocode(x) != None else 'NF')\n",
    "long3 = DF['Prop_Addr'][1900:].apply(lambda x: geolocator.geocode(x).longitude if geolocator.geocode(x) != None else 'NF')\n",
    "\n",
    "lati =[]\n",
    "\n",
    "lati.append(lat)\n",
    "lati.append(lat1)\n",
    "lati.append(lat2) \n",
    "lati.append(lat3)\n",
    "\n",
    "longi =[]\n",
    "\n",
    "longi.append(long)\n",
    "longi.append(long1)\n",
    "longi.append(long2) \n",
    "longi.append(long3)\n",
    "\n",
    "\n",
    "from itertools import chain\n",
    "\n",
    "lati =list(chain.from_iterable(lati))\n",
    "longi = list(chain.from_iterable(longi))\n",
    "\n",
    "\n",
    "\n",
    "coords_df=pd.DataFrame({'latitude': lati, 'longitude': longi})"
   ]
  },
  {
   "cell_type": "code",
   "execution_count": null,
   "id": "a3b35991",
   "metadata": {},
   "outputs": [],
   "source": [
    "# idx = DF['Prop_Addr'].isin([i])\n",
    "    \n",
    "#     DF.loc[idx,\"latitude\"]= geocode_result[0]['geometry']['location']['lat']\n",
    "#     DF.loc[idx,\"longitude\"] = geocode_result[0]['geometry']['location']['lng']\n",
    "\n",
    "print(geodesic(tup, IowaStateUcoords).miles)\n",
    "\n",
    "import geopy.distance\n",
    "from geopy.distance import geodesic\n",
    "IowaStateUcoords = '42.026541, -93.647578'\n",
    "airportcoords = '41.998823, -93.622318' \n",
    "df['IAstateDist'] = ''\n",
    "df['AirportDist'] = ''\n",
    "#geopy.distance.vincenty(coords_1, coords_2).miles\n",
    "for i in range(len(df.latitude)):\n",
    "    ix = DF.index.isin([i])\n",
    "    tup = df.loc[i,'latitude'],df.loc[i,'longitude']\n",
    "    df.loc[ix,'IAstateDist']=(geodesic(tup, airportcoords).miles)\n",
    "    df.loc[ix,'AirportDist']= (geodesic(tup, IowaStateUcoords).miles)"
   ]
  },
  {
   "cell_type": "code",
   "execution_count": null,
   "id": "6b74333f",
   "metadata": {},
   "outputs": [],
   "source": [
    "from geopy.extra.rate_limiter import RateLimiter\n",
    "from geopy.geocoders import Nominatim\n",
    "locator = Nominatim(user_agent='brendan.s.hutchinson@gmail.com')\n",
    "\n",
    "# 1 - conveneint function to delay between geocoding calls\n",
    "geocode = RateLimiter(locator.geocode, min_delay_seconds=1)\n",
    "# 2- - create location column\n",
    "df = DF['Prop_Addr'] +' Ames, IA'\n",
    "df.apply(geocode)\n",
    " # create longitude, laatitude and altitude from location column (returns tuple)\n",
    "df['point'] = df['location'].apply(lambda loc: tuple(loc.point) if loc else None)\n",
    "# # 4 - split point column into latitude, longitude and altitude columns\n",
    "df[['latitude', 'longitude', 'altitude']] = pd.DataFrame(df['point'].tolist(), index=df.index)\n",
    "df\n"
   ]
  },
  {
   "cell_type": "code",
   "execution_count": null,
   "id": "696a530d",
   "metadata": {},
   "outputs": [],
   "source": []
  },
  {
   "cell_type": "markdown",
   "id": "5caf7013",
   "metadata": {},
   "source": [
    "## features selections"
   ]
  },
  {
   "cell_type": "code",
   "execution_count": null,
   "id": "9d724316",
   "metadata": {},
   "outputs": [],
   "source": [
    "y = DF['SalePrice']\n",
    "\n",
    "\n",
    "numerical = ['LotFrontage', 'LotArea','GrLivArea','Street','LotShape','LandContour','Utilities','LandSlope','Neighborhood'\n",
    " 'OverallQual','OverallCond','YearBuilt','YearRemodAdd', 'MasVnrArea','ExterQual','ExterCond','Foundation','BsmtQual',\n",
    "'BsmtCond','BsmtExposure','BsmtFinType1','BsmtFinSF1','BsmtFinType2','BsmtFinSF2','BsmtUnfSF','TotalBsmtSF',\n",
    "'HeatingQC', 'CentralAir','Electrical', '1stFlrSF','2ndFlrSF','LowQualFinSF','BsmtFullBath','BsmtHalfBath','FullBath',\n",
    "'HalfBath', 'BedroomAbvGr','KitchenAbvGr','KitchenQual','TotRmsAbvGrd', 'Functional','Fireplaces','FireplaceQu',\n",
    "'GarageYrBlt', 'GarageFinish','GarageCars','GarageArea', 'GarageQual','GarageCond', 'PavedDrive','WoodDeckSF',\n",
    "'OpenPorchSF','EnclosedPorch','3SsnPorch','ScreenPorch', 'PoolArea','MiscVal','MoSold', 'YrSold', \n",
    "             \n",
    "+ need to add features/lat long  ]\n",
    "\n",
    "categorical = ['MSSubClass','MSZoning', 'LotConfig','Condition2', \n",
    "'Condition1','Neighborhood', 'BldgType', 'HouseStyle', \n",
    "'RoofStyle', 'RoofMatl','Exterior1st','Exterior2nd','MasVnrType'\n",
    "'Foundation','Heating'\n",
    ",'GarageType'\n",
    "'SaleType']\n",
    "\n",
    "\n",
    "dummies = pd.get_dummies(DF[categorical], drop_first=True)\n",
    "\n",
    "X = pd.concat(DF[numeric], dummies)\n",
    "\n",
    "\n",
    "X_train, X_test, y_train, y_test = train_test_split(X, y, test_size=0.2, random_state=42, stratify=y)"
   ]
  },
  {
   "cell_type": "code",
   "execution_count": null,
   "id": "f5b97504",
   "metadata": {},
   "outputs": [],
   "source": [
    "from sklearn.cluster import KMeans\n",
    "import numpy as np\n",
    "\n",
    "kmeans = KMeans(n_clusters=5, random_state=0).fit(DF.Neighborhood)\n",
    "kmeans.labels_\n",
    "# array([1, 1, 1, 0, 0, 0], dtype=int32)\n",
    "kmeans.predict([[0, 0], [12, 3]])\n",
    "# array([1, 0], dtype=int32)\n",
    "kmeans.cluster_centers_\n",
    "array([[10.,  2.],\n",
    "       [ 1.,  2.]])"
   ]
  },
  {
   "cell_type": "code",
   "execution_count": null,
   "id": "036f9907",
   "metadata": {},
   "outputs": [],
   "source": [
    "#totaldf = pd.read_csv('finaldf.csv')"
   ]
  },
  {
   "cell_type": "markdown",
   "id": "2bbd808f",
   "metadata": {},
   "source": [
    "## RANDOM FOREST ################## MODELLING"
   ]
  },
  {
   "cell_type": "code",
   "execution_count": null,
   "id": "f356ba56",
   "metadata": {},
   "outputs": [],
   "source": [
    "\n",
    "# import libraries and functions \n",
    "import pandas as pd\n",
    "import numpy as np\n",
    "import matplotlib.pyplot as plt\n",
    "\n",
    "from sklearn.linear_model import LinearRegression, Ridge, Lasso, ElasticNet\n",
    "\n",
    "from sklearn.model_selection import train_test_split, KFold, StratifiedKFold\n",
    "from sklearn.model_selection import cross_val_score, GridSearchCV\n",
    "\n",
    "from sklearn.pipeline import Pipeline\n",
    "\n",
    "from sklearn.preprocessing import StandardScaler \n",
    "\n",
    "from sklearn.model_selection import train_test_split\n",
    "\n"
   ]
  },
  {
   "cell_type": "code",
   "execution_count": null,
   "id": "a7379520",
   "metadata": {},
   "outputs": [],
   "source": [
    "numx = ['YearBuilt', 'YrSinceRm' , 'BsmtUnfSF' , 'WoodDeckSF', 'GarageArea',  \n",
    "          'ScreenPorch', 'GrLivArea',  'MasVnrArea', 'LotArea', 'Utilities','OverallQual',]\n",
    "\n",
    "catx = ['Neighborhood', 'MSSubClass', 'Condition1', 'Condition2', 'RoofMatl', 'Exterior1st', \n",
    "         'Exterior2nd', 'HouseStyle', 'GarageType']"
   ]
  },
  {
   "cell_type": "code",
   "execution_count": null,
   "id": "432adf8a",
   "metadata": {},
   "outputs": [],
   "source": [
    "# set df = whatever the final output of our dataframe is \n",
    "\n",
    "#df = HousePriceDF\n",
    "\n",
    "#df = totaldf\n",
    "# lists and sublists of numeric and categorical variables \n",
    "\n",
    "numeric_all = ['GrLivArea', 'LotFrontage','LotArea', 'Street', 'LotShape', 'LandContour', 'Utilities', \n",
    "            'LandSlope', 'OverallQual','OverallCond' , 'YearBuilt', 'YearRemodAdd',\n",
    "           'MasVnrArea', 'ExterQual', 'ExterCond', 'BsmtQual', 'BsmtCond', 'BsmtExposure', 'BsmtFinType1', \n",
    "           'BsmtFinSF1', 'BsmtFinType2', 'BsmtFinSF2', 'BsmtUnfSF','TotalBsmtSF', 'HeatingQC', \n",
    "           'CentralAir', 'Electrical', '1stFlrSF', '2ndFlrSF', 'LowQualFinSF', 'BsmtFullBath', \n",
    "           'BsmtHalfBath', 'FullBath', 'HalfBath', 'BedroomAbvGr', 'KitchenAbvGr', 'KitchenQual',\n",
    "           'TotRmsAbvGrd', 'Functional', 'Fireplaces', 'FireplaceQu', 'GarageYrBlt', 'GarageFinish', \n",
    "           'GarageCars', 'GarageArea', 'GarageQual', 'GarageCond', 'PavedDrive', 'WoodDeckSF', 'OpenPorchSF', \n",
    "           'EnclosedPorch', '3SsnPorch', 'ScreenPorch', 'PoolArea', 'MiscVal' , 'MoSold', 'YrSold', \n",
    "           'SaleCondition', 'YrSinceRm', 'Pool', 'Misc', 'BsmtFinTotSF', 'TotalSF', 'IAstateDist', 'AirportDist']\n",
    "\n",
    "categorical_all  = ['MSSubClass', 'MSZoning', 'Neighborhood', 'Condition1', 'Condition2', 'BldgType',\n",
    "               'HouseStyle', 'RoofStyle', 'RoofMatl', 'Exterior1st' , 'Exterior2nd', 'MasVnrType',\n",
    "               'Foundation', 'Heating', 'GarageType','SaleType' , 'LotConfig','SchD_S']\n",
    "\n",
    "break\n",
    "# note the winners of the first round of Lasso were all numeric \n",
    "# set X = df[lasso1]\n",
    "lasso1 = ['YearBuilt', 'YrSinceRm', 'TotalSF', 'BsmtUnfSF' , 'WoodDeckSF', 'GarageArea', '2ndFlrSF', \n",
    "          'ScreenPorch', 'GrLivArea', 'BsmtFinSF1', 'MasVnrArea', 'LotArea']\n",
    "\n",
    "lasso2 =['Condition2_Pos', 'Neighborhood_GrnHill', 'Neighborhood_StoneBr', 'Pool', 'Exterior1st_VinylSd', 'Utilities',\n",
    "         'MSSubClass_150', 'RoofMatl_wood', 'MSSubClass_50', 'GarageType_None', 'MSSubClass_75', 'SaleType_New', \n",
    "         'Neighborhood_NridgHt', 'MSSubClass_30', 'Exterior1st_Wood', 'Neighborhood_NPkVill', 'MSSubClass_20', \n",
    "         'HouseStyle_SLvl', 'MSSubClass_40', 'Exterior2nd_VinylSd']\n",
    "\n",
    "\n",
    "lasso_combo = lasso1 + lasso2\n",
    "\n",
    "\n",
    "\n",
    "num_2 = ['YearBuilt', 'YrSinceRm', 'TotalSF', 'BsmtUnfSF' , 'WoodDeckSF', 'GarageArea', '2ndFlrSF', \n",
    "          'ScreenPorch', 'GrLivArea', 'BsmtFinSF1', 'MasVnrArea', 'LotArea', 'Pool', 'Utilities']\n",
    "\n",
    "cat_2 = ['Neighborhood', 'MSSubClass', 'Condition1', 'Condition2', 'RoofMatl', 'Exterior1st', \n",
    "         'Exterior2nd', 'HouseStyle', 'GarageType']"
   ]
  },
  {
   "cell_type": "code",
   "execution_count": null,
   "id": "d3454405",
   "metadata": {},
   "outputs": [],
   "source": [
    "# seperating dataframe for modeling \n",
    "\n",
    "y = np.log(df['SalePrice'])\n",
    "\n",
    "\n",
    "# input which subset of numeric & categorical variables to be used \n",
    "numeric = numx\n",
    "\n",
    "categorical = catx\n",
    "\n",
    "\n",
    "# DO NOT TOUCH THIS CODE\n",
    "dummies = pd.get_dummies(df[categorical], drop_first=True)\n",
    "\n",
    "X = pd.concat([df[numeric], dummies], axis = 1)\n",
    "\n",
    "# if subsetting use the code below before running tts\n",
    "# X = X[subset]\n",
    "\n",
    "\n",
    "X_train, X_test, y_train, y_test = train_test_split(X, y, test_size=0.30, random_state=42)"
   ]
  },
  {
   "cell_type": "code",
   "execution_count": null,
   "id": "71b5da7d",
   "metadata": {
    "scrolled": false
   },
   "outputs": [],
   "source": [
    "# initiate and fit a full Linear model \n",
    "\n",
    "lm = LinearRegression()\n",
    "lm.fit(X_train, y_train)\n",
    "print('The R^2  equal to %.3f' %(lm.score(X_test, y_test)))\n",
    "\n",
    "\n",
    "# Ridge Model \n",
    "\n",
    "rdg = Ridge()\n",
    "rdg.fit(X_train, y_train)\n",
    "print('The R^2 equal to %.3f' %(rdg.score(X_test, y_test)))\n",
    "#print('The Ridge intercept is %.3f' %(rdg.intercept_))\n",
    "#print('The Ridge slopes are %s' %(rdg.coef_))\n",
    "\n",
    "\n",
    "# Lasso \n",
    "\n",
    "ls = Lasso()\n",
    "ls.fit(X_train, y_train)\n",
    "print(' R^2 is equal to %.3f' %(ls.score(X_test, y_test)))\n",
    "print('coefs are %s' %(ls.coef_))\n",
    "\n",
    "coefs = abs(ls.coef_)\n",
    "\n",
    "features = pd.Series(coefs, index = X.columns)\n",
    "features.sort_values(ascending=False).head(20)\n",
    "\n",
    "\n",
    "# ElasticNet\n",
    "\n",
    "alpha = 1.0\n",
    "l1_ratio = 0.5\n",
    "eln = ElasticNet()\n",
    "eln.set_params(alpha=alpha, l1_ratio= l1_ratio)\n",
    "eln.fit(X_train, y_train)\n",
    "print('The ElasticNet R^2 is %.3f' %(eln.score(X_test, y_test)))\n",
    "#print('The ElasticNet intercept is %.3f' %(?))\n",
    "#print('The ElasticNet slopes are %s' %(?))\n",
    "\n",
    "\n",
    "\n",
    "# GridSearch for Lasso optimization \n",
    "\n",
    "\n",
    "pipe = Pipeline([\n",
    "                     ('scaler', StandardScaler()),\n",
    "                     ('model', Lasso())\n",
    "])\n",
    "\n",
    "\n",
    "gs = GridSearchCV(pipe,\n",
    "                      {'model__alpha':np.arange(0.1,10,0.1)},\n",
    "                      cv = 5, scoring=\"r2\",verbose=3\n",
    "                      )\n",
    "\n",
    "\n",
    "gs.fit(X_train,y_train)\n",
    "print('The R^2 is equal to %.3f' %(gs.score(X_test, y_test))) \n",
    "print(' Lasso  alpha %.3f' %(gs.best_params_))\n",
    "\n",
    "\n",
    "\n",
    "\n",
    "# using GridSearch for ElasticNet\n",
    "\n",
    "pipe2 = Pipeline([\n",
    "                     ('scaler',StandardScaler()),\n",
    "                     ('model', ElasticNet())\n",
    "])\n",
    "\n",
    "gs2 = GridSearchCV(pipe2,\n",
    "                      {'model__alpha':np.arange(0.1,10,0.1), 'model__l1_ratio' : np.arange(0.1,1, 10)},\n",
    "                      cv = 5, scoring=\"r2\",verbose=3\n",
    "                      )\n",
    "\n",
    "gs2.fit(X_train, y_train)\n",
    "print('The Elaticnet is equal to %.3f' %(gs2.score(X_test, y_test))) \n",
    "print('The ElasticNet  alpha  rho values  %.3f' %(gs2.best_params_ ))"
   ]
  },
  {
   "cell_type": "code",
   "execution_count": null,
   "id": "c54b95d5",
   "metadata": {},
   "outputs": [],
   "source": [
    "dummies = pd.get_dummies(df[categorical_all], drop_first=True)\n",
    "\n",
    "X = pd.concat([df[numeric_all], dummies], axis = 1)\n",
    "\n",
    "y = np.log(df['SalePrice'])"
   ]
  },
  {
   "cell_type": "code",
   "execution_count": null,
   "id": "1294b00e",
   "metadata": {},
   "outputs": [],
   "source": [
    "gs?"
   ]
  },
  {
   "cell_type": "code",
   "execution_count": null,
   "id": "f56c4b6e",
   "metadata": {},
   "outputs": [],
   "source": [
    "gs.best_params_['model__alpha']"
   ]
  },
  {
   "cell_type": "code",
   "execution_count": null,
   "id": "f0a92bc4",
   "metadata": {
    "scrolled": true
   },
   "outputs": [],
   "source": [
    "\n",
    "X_train, X_test, y_train, y_test = train_test_split(X, y, test_size=0.30, random_state=42)\n",
    "\n",
    "\n",
    "# # initiate and fit a full Linear model \n",
    "\n",
    "# lm = LinearRegression()\n",
    "# lm.fit(X_train, y_train)\n",
    "# print('The Liner R^2 is equal to %.3f' %(lm.score(X_test, y_test)))\n",
    "#print('The Linear intercept is %.3f' %(lm.intercept_))\n",
    "#print('The Linear slopes are %s' %(lm.coef_))\n",
    "\n",
    "\n",
    "#Ridge Model \n",
    "\n",
    "rdg = Ridge()\n",
    "rdg.set_params(alpha = 1)\n",
    "rdg.fit(X_train, y_train)\n",
    "print('The  R^2 is  %.3f' %(rdg.score(X_test, y_test)))\n",
    "print(' Ridge intercept  %.3f' %(rdg.intercept_))\n",
    "print('Ridge slopes  %s' %(rdg.coef_))\n",
    "\n",
    "\n",
    "# Lasso \n",
    "\n",
    "# ls = Lasso()\n",
    "# ls.set_params(alpha = .1)\n",
    "# ls.fit(X_train, y_train)\n",
    "# print('The Lasso R^2 is equal to %.3f' %(ls.score(X_test, y_test)))\n",
    "# #print('The Lasso intercept is %.3f' %(?))\n",
    "# #print('The Lasso slopes are %s' %(?))\n",
    "# print('The Lasso coefs are %s' %(ls.coef_))\n",
    "\n",
    "# # coefs = abs(ls.coef_)\n",
    "# # pipe = Pipeline([\n",
    "# #                      ('scaler', StandardScaler()),\n",
    "# #                      ('model', Lasso())\n",
    "# # ])\n",
    "\n",
    "\n",
    "# gs = GridSearchCV(pipe,\n",
    "#                       {'model__alpha':np.arange(0.1,10,0.1)},\n",
    "#                       cv = 5, scoring=\"r2\",verbose=3\n",
    "#                       )\n",
    "\n",
    "\n",
    "# gs.fit(X_train,y_train)\n",
    "# print('The Lasso GS R^2 is equal to %.3f' %(gs.score(X_test, y_test))) \n",
    "# print('The Lasso GS alpha was equal to %.3f' %(gs.best_params_['model__alpha']))\n",
    "\n",
    "features = pd.Series(coefs, index = X.columns)\n",
    "features.sort_values(ascending=False).head(20)\n",
    "\n",
    "\n",
    "# # ElasticNet\n",
    "\n",
    "# alpha = 1.0\n",
    "# l1_ratio = 0.5\n",
    "# eln = ElasticNet()\n",
    "# eln.set_params(alpha=alpha, l1_ratio= l1_ratio)\n",
    "# eln.fit(X_train, y_train)\n",
    "# print('The ElasticNet R^2 is equal to %.3f' %(eln.score(X_test, y_test)))\n",
    "# #print('The ElasticNet intercept is %.3f' %(?))\n",
    "# #print('The ElasticNet slopes are %s' %(?))\n"
   ]
  },
  {
   "cell_type": "code",
   "execution_count": null,
   "id": "6806b1fd",
   "metadata": {},
   "outputs": [],
   "source": [
    "numeric_all = ['GrLivArea', 'LotFrontage','LotArea', 'Street', 'LotShape', 'LandContour', 'Utilities', \n",
    "            'LandSlope', 'OverallQual','OverallCond' , 'YearBuilt', 'YearRemodAdd',\n",
    "           'MasVnrArea', 'ExterQual', 'ExterCond', 'BsmtQual', 'BsmtCond', 'BsmtExposure', 'BsmtFinType1', \n",
    "           'BsmtFinSF1', 'BsmtFinType2', 'BsmtFinSF2', 'BsmtUnfSF','TotalBsmtSF', 'HeatingQC', \n",
    "           'CentralAir', 'Electrical', '1stFlrSF', '2ndFlrSF', 'LowQualFinSF', 'BsmtFullBath', \n",
    "           'BsmtHalfBath', 'FullBath', 'HalfBath', 'BedroomAbvGr', 'KitchenAbvGr', 'KitchenQual',\n",
    "           'TotRmsAbvGrd', 'Functional', 'Fireplaces', 'FireplaceQu', 'GarageYrBlt', 'GarageFinish', \n",
    "           'GarageCars', 'GarageArea', 'GarageQual', 'GarageCond', 'PavedDrive', 'WoodDeckSF', 'OpenPorchSF', \n",
    "           'EnclosedPorch', '3SsnPorch', 'ScreenPorch', 'PoolArea', 'MiscVal' , 'MoSold', 'YrSold', \n",
    "           'SaleCondition', 'YrSinceRm', 'Pool', 'Misc', 'BsmtFinTotSF', 'TotalSF', 'IAstateDist', 'AirportDist']\n",
    "\n",
    "\n",
    "\n",
    "categorical_all  = ['MSSubClass', 'MSZoning', 'Neighborhood', 'Condition1', 'Condition2', 'BldgType',\n",
    "               'HouseStyle', 'RoofStyle', 'RoofMatl', 'Exterior1st' , 'Exterior2nd', 'MasVnrType',\n",
    "               'Foundation', 'Heating', 'GarageType','SaleType' , 'LotConfig','SchD_S']\n"
   ]
  },
  {
   "cell_type": "code",
   "execution_count": null,
   "id": "91ea2a36",
   "metadata": {},
   "outputs": [],
   "source": [
    "# create a years since remodeled column   -  drop YearRemodAdd from DF  \n",
    "totaldf['YrSinceRm'] = totaldf.YrSold - totaldf.YearRemodAdd\n",
    "\n",
    "\n",
    "# binary value for pool and misc feature - drop PoolArea & MiscVal from DF\n",
    "\n",
    "totaldf['Pool'] = totaldf.PoolArea.apply(lambda x: 0 if x==0 else 1)\n",
    "\n",
    "totaldf['Misc'] = totaldf.MiscVal.apply(lambda x: 0 if x==0 else 1)\n",
    "totaldf['TotalSF'] = (totaldf.GrLivArea + \n",
    "                        totaldf.TotalBsmtSF + \n",
    "                        totaldf.GarageArea)\n",
    "\n",
    "# Total Baths\n",
    "totaldf['TotalBath'] = ((totaldf.FullBath + totaldf.BsmtFullBath) +\n",
    "                          0.5 * (totaldf.HalfBath + totaldf.BsmtHalfBath))\n",
    "totaldf['BsmtFinTotSF'] = totaldf.TotalBsmtSF - totaldf.BsmtUnfSF"
   ]
  },
  {
   "cell_type": "code",
   "execution_count": null,
   "id": "fb1c1576",
   "metadata": {},
   "outputs": [],
   "source": [
    "numeric_1 = ['GrLivArea', 'LotFrontage','LotArea', 'Street', 'LotShape', 'LandContour', 'Utilities', \n",
    "            'LandSlope', 'OverallQual','OverallCond' , 'YearBuilt', 'YearRemodAdd',\n",
    "           'MasVnrArea', 'ExterQual', 'ExterCond', 'BsmtQual', 'BsmtCond', 'BsmtExposure', 'BsmtFinType1', \n",
    "           'BsmtFinType2', 'BsmtFinSF2', 'BsmtUnfSF', 'HeatingQC', \n",
    "             'Electrical', '1stFlrSF', '2ndFlrSF', 'LowQualFinSF', 'BsmtFullBath', \n",
    "           'FullBath', 'HalfBath', 'BedroomAbvGr', 'KitchenAbvGr', 'KitchenQual',\n",
    "           'TotRmsAbvGrd', 'Functional', 'Fireplaces', 'FireplaceQu', 'GarageFinish', \n",
    "           'GarageCars', 'GarageArea', 'GarageQual',  'PavedDrive', 'WoodDeckSF', \n",
    "           'EnclosedPorch',  'ScreenPorch', 'PoolArea', 'MiscVal' , 'MoSold', 'YrSold', \n",
    "           'SaleCondition', 'YrSinceRm','Pool', 'Misc', 'BsmtFinTotSF', 'IAstateDist', 'AirportDist', 'TotalBath']\n",
    "\n",
    "categorical_1  = ['MSSubClass', 'MSZoning', 'Neighborhood', 'Condition1', 'Condition2', 'BldgType',\n",
    "               'HouseStyle', 'RoofStyle', 'RoofMatl', 'Exterior1st' , 'Exterior2nd', 'MasVnrType',\n",
    "               'Foundation', 'Heating', 'GarageType','SaleType' , 'LotConfig' ]"
   ]
  },
  {
   "cell_type": "code",
   "execution_count": null,
   "id": "128c46be",
   "metadata": {},
   "outputs": [],
   "source": [
    "numeric = numeric_1\n",
    "\n",
    "categorical = categorical_1\n",
    "\n",
    "y = np.log(df['SalePrice'])\n",
    "# DO NOT TOUCH THIS CODE\n",
    "dummies = pd.get_dummies(df[categorical], drop_first=True)\n",
    "\n",
    "X = pd.concat([df[numeric], dummies], axis = 1)"
   ]
  },
  {
   "cell_type": "code",
   "execution_count": null,
   "id": "767b217a",
   "metadata": {},
   "outputs": [],
   "source": [
    "catnum =[\n",
    "    'YearBuilt', 'YrSinceRm',  'BsmtUnfSF' , 'WoodDeckSF',  \n",
    "    'ScreenPorch', 'GrLivArea', 'MasVnrArea', 'LotArea', 'Pool','YearRemodAdd','KitchenQual',\n",
    "    'Utilities','FullBath','FireplaceQu','TotalBsmtSF',\n",
    "    'GarageArea','1stFlrSF','OverallQual'\n",
    "             \n",
    "]\n",
    "\n",
    "catcat =  [\n",
    "            'Neighborhood', 'MSSubClass', 'Condition1', 'Condition2', 'RoofMatl', 'Exterior1st', \n",
    "            'Exterior2nd', 'HouseStyle', 'GarageType'\n",
    "]"
   ]
  },
  {
   "cell_type": "code",
   "execution_count": null,
   "id": "ea90600b",
   "metadata": {},
   "outputs": [],
   "source": [
    "X_train, X_test, y_train, y_test = train_test_split(X, y, test_size=0.30, random_state=42)"
   ]
  },
  {
   "cell_type": "code",
   "execution_count": null,
   "id": "682da069",
   "metadata": {},
   "outputs": [],
   "source": [
    "ensemble.RandomForestRegressor?"
   ]
  },
  {
   "cell_type": "code",
   "execution_count": null,
   "id": "1188cea4",
   "metadata": {},
   "outputs": [],
   "source": [
    "from sklearn import ensemble\n",
    "import sklearn.model_selection as ms\n",
    "randomForest = ensemble.RandomForestRegressor()\n",
    "bagging = ensemble.BaggingRegressor()\n"
   ]
  },
  {
   "cell_type": "code",
   "execution_count": null,
   "id": "20601371",
   "metadata": {},
   "outputs": [],
   "source": [
    "randomForest.fit(X_train,y_train)\n",
    "randomForest.score(X_test,y_test)\n"
   ]
  },
  {
   "cell_type": "code",
   "execution_count": null,
   "id": "97fbbfbb",
   "metadata": {},
   "outputs": [],
   "source": [
    "randomForest.set_params(random_state=42, n_estimators=100, max_features=70)\n",
    "randomForest.fit(X_train,y_train) # fit \n",
    "randomForest.score(X_train,y_train)\n",
    "randomForest.score(X_test,y_test)"
   ]
  },
  {
   "cell_type": "code",
   "execution_count": null,
   "id": "6eb29b24",
   "metadata": {
    "scrolled": true
   },
   "outputs": [],
   "source": [
    "bagging.fit(X_train,y_train)\n",
    "bagging.score(X_test,y_test)\n",
    "\n",
    "\n",
    "# bagging\n",
    "bagging.set_params(n_estimators=50, random_state=42, max_features=70)\n",
    "bagging.fit(X_train, y_train)\n",
    "print(\"The training error of bagging forest is: %.5f\" %(1 - bagging.score(X_train, y_train)))\n",
    "print(\"The test rror of bagging forest is: %.5f\" %(1 - bagging.score(X_test, y_test)))\n",
    "print(bagging.score(X_train,y_train))\n",
    "print(bagging.score(X_test,y_test))\n",
    "\n",
    "\n",
    "# bagging grid search \n",
    "\n",
    "\n",
    "\n",
    "grid_bag3 = {\n",
    "    'max_samples': range(2, 100,20),\n",
    "    'n_estimators': range(10, 500, 100),\n",
    "    'max_features' : [20,30,50,70],\n",
    "   }\n",
    "\n",
    "bagging.set_params()\n",
    "grid_search_bag = ms.GridSearchCV(bagging,grid_bag3,cv=5, n_jobs=-1)\n",
    "%time grid_search_bag.fit(X_train, y_train)\n",
    "\n",
    "\n",
    "\n",
    "grid_search_bag.best_params_\n",
    "\n",
    "bagging.set_params(random_state = 42 , n_estimators =100)\n",
    "bagging.fit(X_train,y_train)\n",
    "print(bagging.score(X_train,y_train))\n",
    "print(bagging.score(X_test,y_test))"
   ]
  },
  {
   "cell_type": "code",
   "execution_count": null,
   "id": "c74a73af",
   "metadata": {},
   "outputs": [],
   "source": [
    "bagging.set_params(random_state = 42 , n_estimators =650)\n",
    "bagging.fit(X_train,y_train)\n",
    "print(bagging.score(X_train,y_train))\n",
    "print(bagging.score(X_test,y_test))"
   ]
  },
  {
   "cell_type": "code",
   "execution_count": null,
   "id": "b7a838ed",
   "metadata": {},
   "outputs": [],
   "source": [
    "bagging.set_params(random_state = 42 , n_estimators =150)\n",
    "bagging.fit(X_train,y_train)\n",
    "print(bagging.score(X_train,y_train))\n",
    "print(bagging.score(X_test,y_test))"
   ]
  },
  {
   "cell_type": "code",
   "execution_count": null,
   "id": "2054f858",
   "metadata": {},
   "outputs": [],
   "source": [
    "grid_bag3 = {\n",
    "    'n_estimators': range(0, 700 ,50),\n",
    "   \n",
    "   }\n",
    "\n",
    "bagging.set_params()\n",
    "grid_search_bag = ms.GridSearchCV(bagging,grid_bag3,cv=5, n_jobs=-1)\n",
    "%time grid_search_bag.fit(X_train, y_train)\n",
    "\n",
    "\n",
    "\n",
    "grid_search_bag.best_params_"
   ]
  },
  {
   "cell_type": "code",
   "execution_count": null,
   "id": "76f34c9c",
   "metadata": {},
   "outputs": [],
   "source": [
    "bagging.set_params(random_state = 42 , n_estimators =400, max_samples = 50, max_features =90)\n",
    "bagging.fit(X_train,y_train)\n",
    "print(bagging.score(X_train,y_train))\n",
    "print(bagging.score(X_test,y_test))"
   ]
  },
  {
   "cell_type": "code",
   "execution_count": null,
   "id": "2578a9e3",
   "metadata": {},
   "outputs": [],
   "source": []
  },
  {
   "cell_type": "code",
   "execution_count": null,
   "id": "d05beff6",
   "metadata": {},
   "outputs": [],
   "source": []
  },
  {
   "cell_type": "code",
   "execution_count": null,
   "id": "9ea55a3f",
   "metadata": {},
   "outputs": [],
   "source": [
    "randomForest?\n"
   ]
  },
  {
   "cell_type": "code",
   "execution_count": null,
   "id": "95a8fb9e",
   "metadata": {},
   "outputs": [],
   "source": [
    "## Random FOrest GRid Search \n",
    "\n",
    "grid_para_tree = {\n",
    "    'max_depth': range(1, 16),\n",
    "    'n_estimators': range(10, 1000, 100),\n",
    "    'max_features' : [10,20,30,50,70],\n",
    "   \n",
    "    \n",
    "}\n",
    "\n",
    "randomForest.set_params(random_state=42)\n",
    "grid_search_tree = ms.GridSearchCV(randomForest,grid_para_tree, cv=5, n_jobs=-1)\n",
    "%time grid_search_tree.fit(X_train, y_train)\n",
    "\n",
    "\n",
    "print('Best parameters: '+ str(grid_search_tree.best_params_))\n",
    "print(grid_search_tree.best_score_)\n",
    "\n"
   ]
  },
  {
   "cell_type": "code",
   "execution_count": null,
   "id": "06535860",
   "metadata": {},
   "outputs": [],
   "source": [
    "tree_final = grid_search_tree.best_estimator_\n",
    "feature_importance = list(zip(X_train.columns, tree_final.feature_importances_))\n",
    "dtype = [('feature', 'S10'), ('score', 'float')]\n",
    "feature_importance = np.array(feature_importance, dtype=dtype)\n",
    "sort_X = np.sort(feature_importance, order='score')[::-1]\n",
    "name,score = zip(*list(sort_X))\n",
    "pd.DataFrame({'feature': name ,'score':score})[:15].plot.barh(x='feature', y='score')"
   ]
  },
  {
   "cell_type": "code",
   "execution_count": null,
   "id": "8669cc81",
   "metadata": {
    "scrolled": true
   },
   "outputs": [],
   "source": [
    "a = pd.DataFrame({'feature': name ,'score':score})[:15] \n",
    "a.feature = [str(i) for i in a.feature]\n",
    "a.feature = [i.replace('b',\"\") for  i in a.feature]\n",
    "a.feature =[i.replace(\"\\'\",'') for i in a.feature]\n",
    "px.bar( a, x = 'feature', y='score')"
   ]
  },
  {
   "cell_type": "code",
   "execution_count": null,
   "id": "219c6cef",
   "metadata": {},
   "outputs": [],
   "source": [
    "print(grid_search_tree.best_score_)"
   ]
  },
  {
   "cell_type": "code",
   "execution_count": null,
   "id": "bf902fb4",
   "metadata": {},
   "outputs": [],
   "source": []
  },
  {
   "cell_type": "code",
   "execution_count": null,
   "id": "534a457f",
   "metadata": {},
   "outputs": [],
   "source": [
    "randomForest.set_params(random_state=42, n_estimators=910, max_features=70, max_depth = 15)\n",
    "randomForest.fit(X_train,y_train) \n",
    "randomForest.score(X_train,y_train)\n",
    "randomForest.score(X_test,y_test)"
   ]
  },
  {
   "cell_type": "code",
   "execution_count": null,
   "id": "1fea3503",
   "metadata": {},
   "outputs": [],
   "source": [
    "randomForest.set_params(random_state=42, n_estimators=700, max_features=70, max_depth = 15)\n",
    "randomForest.fit(X_train,y_train) \n",
    "randomForest.score(X_train,y_train)\n",
    "print(randomForest.score(X_test,y_test))\n",
    "print(randomForest.score(X_train,y_train))"
   ]
  },
  {
   "cell_type": "code",
   "execution_count": null,
   "id": "9d49bce2",
   "metadata": {},
   "outputs": [],
   "source": [
    "randomForest.set_params(random_state=42, n_estimators=100, max_features=30, max_depth = 14)\n",
    "randomForest.fit(X_train,y_train) \n",
    "randomForest.score(X_train,y_train)\n",
    "randomForest.score(X_test,y_test)"
   ]
  },
  {
   "cell_type": "code",
   "execution_count": null,
   "id": "0fce0622",
   "metadata": {},
   "outputs": [],
   "source": [
    "depth  = range(1, 30)\n",
    "tree_train = []\n",
    "tree_test = []\n",
    "for i in depth:\n",
    "    randomForest.set_params(max_depth = i)\n",
    "    error = get_error(X_train, y_train, X_test, y_test, randomForest, show=False)\n",
    "    tree_train.append(1 - randomForest.score(X_train, y_train))\n",
    "    tree_test.append(1 - randomForest.score(X_test, y_test))\n",
    "\n",
    "\n",
    "plt.plot(depth, tree_train, c = 'blue', label='training error')\n",
    "plt.plot(depth, tree_test, c = 'red', label='test error')\n",
    "plt.legend(loc=7)\n",
    "plt.xlabel('depth')\n"
   ]
  },
  {
   "cell_type": "code",
   "execution_count": null,
   "id": "0749a549",
   "metadata": {},
   "outputs": [],
   "source": []
  },
  {
   "cell_type": "code",
   "execution_count": null,
   "id": "031f3b2d",
   "metadata": {},
   "outputs": [],
   "source": []
  },
  {
   "cell_type": "code",
   "execution_count": null,
   "id": "7ae202e5",
   "metadata": {
    "scrolled": true
   },
   "outputs": [],
   "source": [
    "from sklearn.ensemble import  GradientBoostingRegressor\n",
    "from sklearn.metrics import mean_squared_error\n",
    "\n",
    "gbm = GradientBoostingRegressor()\n",
    "\n",
    "gbm.fit(X_train,y_train)\n",
    "\n",
    "gbm.score(X_train,y_train)\n",
    "\n",
    "gbm.score(X_test,y_test)\n",
    "\n",
    "#gradient boosting regression grid search \n",
    "\n",
    "\n",
    "parameters3 = {\n",
    "              'learning_rate': [.08,.09,.1,.12],\n",
    "              'max_depth': [3,4,6,7,8],\n",
    "               'n_estimators': [500,550,600,700,900]}\n",
    "                 \n",
    "\n",
    "\n",
    "%time grid_gbm = GridSearchCV(gbm, param_grid= parameters3, cv=3, n_jobs=-1).fit(X_train,y_train)\n",
    "\n",
    "print('Best parameters: '+ str(grid_gbm.best_params_))\n",
    "print(grid_gbm.best_score_)\n",
    "\n",
    "\n",
    "\n",
    "\n",
    "gbm.set_params(learning_rate = .08, max_depth =3 , n_estimators = 550)\n",
    "gbm.fit(X_train,y_train)\n",
    "gbm.score(X_test,y_test)\n",
    "\n",
    "gbm.set_params(learning_rate = .08, max_depth =6 , n_estimators = 700)\n",
    "gbm.fit(X_train,y_train)\n",
    "gbm.score(X_test,y_test)"
   ]
  },
  {
   "cell_type": "code",
   "execution_count": null,
   "id": "b0e23de3",
   "metadata": {},
   "outputs": [],
   "source": [
    "gbm.set_params(learning_rate = .08, max_depth =3 , n_estimators = 550)\n",
    "gbm.fit(X_train,y_train)\n",
    "gbm.score(X_test,y_test)\n"
   ]
  },
  {
   "cell_type": "code",
   "execution_count": null,
   "id": "203bcabf",
   "metadata": {},
   "outputs": [],
   "source": [
    "gbm.set_params(learning_rate = .08, max_depth =6 , n_estimators = 700)\n",
    "gbm.fit(X_train,y_train)\n",
    "gbm.score(X_test,y_test)"
   ]
  },
  {
   "cell_type": "code",
   "execution_count": null,
   "id": "3e00860a",
   "metadata": {},
   "outputs": [],
   "source": []
  },
  {
   "cell_type": "code",
   "execution_count": null,
   "id": "c093e894",
   "metadata": {},
   "outputs": [],
   "source": []
  },
  {
   "cell_type": "markdown",
   "id": "b78a54c2",
   "metadata": {},
   "source": [
    "## MODELING END #######################"
   ]
  },
  {
   "cell_type": "markdown",
   "id": "4ee3d61b",
   "metadata": {},
   "source": [
    "## GEOCODING / LAT LONG"
   ]
  },
  {
   "cell_type": "code",
   "execution_count": null,
   "id": "e76b1ec3",
   "metadata": {},
   "outputs": [],
   "source": [
    "DF['Prop_Addr'] = DF['Prop_Addr'].apply(lambda x: \"{}{}\".format(x, ', Ames, IA'))\n",
    "DF.Prop_Addr.head()"
   ]
  },
  {
   "cell_type": "code",
   "execution_count": null,
   "id": "1c87d179",
   "metadata": {},
   "outputs": [],
   "source": [
    "DF.Prop_Addr.head()"
   ]
  },
  {
   "cell_type": "code",
   "execution_count": null,
   "id": "dca746d8",
   "metadata": {},
   "outputs": [],
   "source": [
    "DF.Prop_Addr.head()"
   ]
  },
  {
   "cell_type": "code",
   "execution_count": null,
   "id": "c8926d2b",
   "metadata": {
    "scrolled": false
   },
   "outputs": [],
   "source": [
    "for i in range(len(DF.Prop_Addr)):\n",
    "    print(DF.loc[i,'Prop_Addr'])"
   ]
  },
  {
   "cell_type": "code",
   "execution_count": null,
   "id": "0ef46de6",
   "metadata": {},
   "outputs": [],
   "source": [
    "geocode_result = gmaps.geocode('436 HAYWARD AVE, Ames, IA')\n",
    "print( geocode_result[0]['geometry']['location']['lat'])"
   ]
  },
  {
   "cell_type": "code",
   "execution_count": null,
   "id": "91a49cbd",
   "metadata": {},
   "outputs": [],
   "source": [
    "geocode_result = gmaps.geocode(' 3416 WEST ST, Ames, IA')\n",
    "print( geocode_result[0]['geometry']['location']['lat'])"
   ]
  },
  {
   "cell_type": "code",
   "execution_count": null,
   "id": "480f9736",
   "metadata": {
    "scrolled": false
   },
   "outputs": [],
   "source": [
    "for idx, i in DF.\n",
    "\\:\n",
    "        print(idx,i)"
   ]
  },
  {
   "cell_type": "code",
   "execution_count": null,
   "id": "37cd770b",
   "metadata": {},
   "outputs": [],
   "source": [
    "np.where(DF['Prop_Addr'].isin([' 3416 WEST ST, Ames, IA']))"
   ]
  },
  {
   "cell_type": "code",
   "execution_count": null,
   "id": "dd843440",
   "metadata": {},
   "outputs": [],
   "source": [
    "idx = DF['Prop_Addr'].isin(['3416 WEST ST, Ames, IA'])\n",
    "DF.loc[mask,'latitude'] =1\n",
    "DF.loc[mask]"
   ]
  },
  {
   "cell_type": "code",
   "execution_count": null,
   "id": "c469e24a",
   "metadata": {
    "scrolled": false
   },
   "outputs": [],
   "source": [
    "for x in range(len(DF.Prop_Addr.head(10))):\n",
    "        print( DF.loc[x,'SalePrice'])"
   ]
  },
  {
   "cell_type": "code",
   "execution_count": null,
   "id": "c3daf345",
   "metadata": {},
   "outputs": [],
   "source": [
    "len(df.drop_duplicates('PID'))\n",
    "len(df.drop_duplicates('MapRefNo'))\n",
    "#len(df)"
   ]
  },
  {
   "cell_type": "code",
   "execution_count": null,
   "id": "8a88556f",
   "metadata": {},
   "outputs": [],
   "source": [
    "for i in DF.Prop_Addr.head(7):\n",
    "    idx = DF['Prop_Addr'].isin([i])\n",
    "    print(DF.loc[idx,'SalePrice'])"
   ]
  },
  {
   "cell_type": "code",
   "execution_count": null,
   "id": "db324724",
   "metadata": {
    "scrolled": false
   },
   "outputs": [],
   "source": [
    "import googlemaps\n",
    "import time\n",
    "gmaps = googlemaps.Client(key='')\n",
    "DF['latitude']=''\n",
    "DF['longitude']=''\n",
    "DF['HouseAdress']=''\n",
    "for i in DF.Prop_Addr[:400]: #range(len(DF.Prop_Addr.head(25))):\n",
    "#     try:\n",
    "    time.sleep(1)\n",
    "      ##  gmaps.geocode(i).longitude if geolocator.geocode(i) != None else 'NF'  \n",
    "    geocode_result = gmaps.geocode(i)\n",
    "    idx = DF['Prop_Addr'].isin([i])\n",
    "    \n",
    "    DF.loc[idx,\"latitude\"]= geocode_result[0]['geometry']['location']['lat']\n",
    "    DF.loc[idx,\"longitude\"] = geocode_result[0]['geometry']['location']['lng']\n",
    "#     DF.loc[idx,'HouseAddress'] = i\n",
    "#             else:\n",
    "#                 DF.loc[i,'latitude'] = geocode_result[0]['geometry']['bounds']['northeast']['lat']\n",
    "#                 DF.loc[i,'longitude'] =geocode_result[0]['geometry']['bounds']['northeast']['lng']\n",
    "                \n",
    "#     except IndexError:\n",
    "#             print(\"Address was wrong...\")\n",
    "#             print(DF.loc[x,'Prop_Addr'])\n",
    "#             print(geocode_result)\n",
    "#     except Exception as e:\n",
    "#             print(\"Unexpected error occurred.\", e )\n",
    "#             print(DF.loc[x,'Prop_Addr'])\n",
    "#             print(geocode_result)\n",
    "            \n",
    "#range(len(DF.Prop_Addr.head(25))):\n",
    "         "
   ]
  },
  {
   "cell_type": "code",
   "execution_count": null,
   "id": "3f8066a6",
   "metadata": {},
   "outputs": [],
   "source": [
    "for i in DF.Prop_Addr[400:1000]: #range(len(DF.Prop_Addr.head(25))):\n",
    "#     try:\n",
    "    time.sleep(1)\n",
    "      ##  gmaps.geocode(i).longitude if geolocator.geocode(i) != None else 'NF'  \n",
    "    geocode_result = gmaps.geocode(i)\n",
    "    idx = DF['Prop_Addr'].isin([i])\n",
    "    \n",
    "    DF.loc[idx,\"latitude\"]= geocode_result[0]['geometry']['location']['lat']\n",
    "    DF.loc[idx,\"longitude\"] = geocode_result[0]['geometry']['location']['lng']"
   ]
  },
  {
   "cell_type": "code",
   "execution_count": null,
   "id": "7a92f3aa",
   "metadata": {},
   "outputs": [],
   "source": [
    "for i in DF.Prop_Addr[1000:1700]: #range(len(DF.Prop_Addr.head(25))):\n",
    "#     try:\n",
    "    time.sleep(1)\n",
    "      ##  gmaps.geocode(i).longitude if geolocator.geocode(i) != None else 'NF'  \n",
    "    geocode_result = gmaps.geocode(i)\n",
    "    idx = DF['Prop_Addr'].isin([i])\n",
    "    \n",
    "    DF.loc[idx,\"latitude\"]= geocode_result[0]['geometry']['location']['lat']\n",
    "    DF.loc[idx,\"longitude\"] = geocode_result[0]['geometry']['location']['lng']"
   ]
  },
  {
   "cell_type": "code",
   "execution_count": null,
   "id": "194d722f",
   "metadata": {},
   "outputs": [],
   "source": [
    "for i in DF.Prop_Addr[1700:2400]: #range(len(DF.Prop_Addr.head(25))):\n",
    "#     try:\n",
    "    time.sleep(1)\n",
    "      ##  gmaps.geocode(i).longitude if geolocator.geocode(i) != None else 'NF'  \n",
    "    geocode_result = gmaps.geocode(i)\n",
    "    idx = DF['Prop_Addr'].isin([i])\n",
    "    \n",
    "    DF.loc[idx,\"latitude\"]= geocode_result[0]['geometry']['location']['lat']\n",
    "    DF.loc[idx,\"longitude\"] = geocode_result[0]['geometry']['location']['lng']"
   ]
  },
  {
   "cell_type": "code",
   "execution_count": null,
   "id": "cdde54af",
   "metadata": {},
   "outputs": [],
   "source": [
    "for i in DF.Prop_Addr[2400:2602]: #range(len(DF.Prop_Addr.head(25))):\n",
    "#     try:\n",
    "    time.sleep(1)\n",
    "      ##  gmaps.geocode(i).longitude if geolocator.geocode(i) != None else 'NF'  \n",
    "    geocode_result = gmaps.geocode(i)\n",
    "    idx = DF['Prop_Addr'].isin([i])\n",
    "    \n",
    "    DF.loc[idx,\"latitude\"]= geocode_result[0]['geometry']['location']['lat']\n",
    "    DF.loc[idx,\"longitude\"] = geocode_result[0]['geometry']['location']['lng']"
   ]
  },
  {
   "cell_type": "code",
   "execution_count": null,
   "id": "fc06eda6",
   "metadata": {},
   "outputs": [],
   "source": []
  },
  {
   "cell_type": "code",
   "execution_count": null,
   "id": "85f9b7c2",
   "metadata": {},
   "outputs": [],
   "source": [
    "for i in DF.Prop_Addr[2602:2603]: #range(len(DF.Prop_Addr.head(25))):\n",
    "#     try:\n",
    "    time.sleep(1)\n",
    "      ##  gmaps.geocode(i).longitude if geolocator.geocode(i) != None else 'NF'  \n",
    "    geocode_result = gmaps.geocode(i)\n",
    "    idx = DF['Prop_Addr'].isin([i])\n",
    "    \n",
    "    DF.loc[idx,\"latitude\"]= geocode_result[0]['geometry']['location']['lat']\n",
    "    DF.loc[idx,\"longitude\"] = geocode_result[0]['geometry']['location']['lng']"
   ]
  },
  {
   "cell_type": "code",
   "execution_count": null,
   "id": "d9f8eefa",
   "metadata": {},
   "outputs": [],
   "source": [
    "\n",
    "\n",
    "\n",
    "DF.to_csv('latlongfulldf.csv')"
   ]
  },
  {
   "cell_type": "code",
   "execution_count": null,
   "id": "71b87bfb",
   "metadata": {},
   "outputs": [],
   "source": [
    "df = pd.read_csv('latlongfulldf.csv')\n"
   ]
  },
  {
   "cell_type": "code",
   "execution_count": null,
   "id": "fc7462cd",
   "metadata": {},
   "outputs": [],
   "source": [
    "DF['HouseAddress'] = str(DF['latitude']) + ',' + str(DF['longitude']) "
   ]
  },
  {
   "cell_type": "code",
   "execution_count": null,
   "id": "8e142991",
   "metadata": {},
   "outputs": [],
   "source": [
    "DF['HouseAddress']"
   ]
  },
  {
   "cell_type": "code",
   "execution_count": null,
   "id": "d03cc85a",
   "metadata": {},
   "outputs": [],
   "source": [
    "'{},{}'.format(DF.latitude,DF.longitude)"
   ]
  },
  {
   "cell_type": "code",
   "execution_count": null,
   "id": "6779b437",
   "metadata": {},
   "outputs": [],
   "source": [
    "DF.drop(DF.index[2603:], axis=0, inplace=True)\n",
    "DF.isna().sum()"
   ]
  },
  {
   "cell_type": "code",
   "execution_count": null,
   "id": "34bf73f2",
   "metadata": {},
   "outputs": [],
   "source": [
    "for i in geocode_result[0]['geometry']:\n",
    "    if i == 'bounds':\n",
    "        print(i)"
   ]
  },
  {
   "cell_type": "code",
   "execution_count": null,
   "id": "a5f22e71",
   "metadata": {},
   "outputs": [],
   "source": [
    "for x in range(len(addresses)):\n",
    "    try:\n",
    "        time.sleep(1) #to add delay in case of large DFs\n",
    "        geocode_result = gmaps.geocode(addresses['FullAddress'][x])\n",
    "        addresses['lat'][x] = geocode_result[0]['geometry']['bounds']['northeast']['lat']\n",
    "        addresses['long'][x] = geocode_result[0]['geometry']['bounds']['northeast']['lat']\n",
    "    except IndexError:\n",
    "        print(\"Address was wrong...\")\n",
    "    except Exception as e:\n",
    "        print(\"Unexpected error occurred.\", e )"
   ]
  },
  {
   "cell_type": "code",
   "execution_count": null,
   "id": "c1055327",
   "metadata": {},
   "outputs": [],
   "source": [
    " geocode_result[0]#['geometry']['bounds']['northeast']['lng']"
   ]
  },
  {
   "cell_type": "code",
   "execution_count": null,
   "id": "d47e108a",
   "metadata": {},
   "outputs": [],
   "source": [
    "totaldf.drop_duplicates(subset=['PID'],inplace = True)"
   ]
  },
  {
   "cell_type": "code",
   "execution_count": null,
   "id": "6232e67e",
   "metadata": {},
   "outputs": [],
   "source": [
    "totaldf[totaldf.duplicated(['PID'], keep=False)]"
   ]
  },
  {
   "cell_type": "code",
   "execution_count": null,
   "id": "f7475530",
   "metadata": {},
   "outputs": [],
   "source": [
    "totaldf.drop_duplicates(subset =['YrSold'])"
   ]
  },
  {
   "cell_type": "code",
   "execution_count": null,
   "id": "221675d7",
   "metadata": {},
   "outputs": [],
   "source": []
  }
 ],
 "metadata": {
  "kernelspec": {
   "display_name": "Python 3",
   "language": "python",
   "name": "python3"
  },
  "language_info": {
   "codemirror_mode": {
    "name": "ipython",
    "version": 3
   },
   "file_extension": ".py",
   "mimetype": "text/x-python",
   "name": "python",
   "nbconvert_exporter": "python",
   "pygments_lexer": "ipython3",
   "version": "3.8.8"
  }
 },
 "nbformat": 4,
 "nbformat_minor": 5
}
