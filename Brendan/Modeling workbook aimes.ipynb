{
 "cells": [
  {
   "cell_type": "code",
   "execution_count": null,
   "id": "df1e82ec",
   "metadata": {},
   "outputs": [],
   "source": [
    "import pandas as pd\n",
    "import numpy as np\n",
    "import matplotlib.pyplot as plt\n",
    "\n",
    "from sklearn.linear_model import LinearRegression, Ridge, Lasso, ElasticNet\n",
    "\n",
    "from sklearn.model_selection import train_test_split, KFold, StratifiedKFold\n",
    "from sklearn.model_selection import cross_val_score, GridSearchCV\n",
    "import plotly.express as px\n",
    "from sklearn.pipeline import Pipeline\n",
    "\n",
    "from sklearn.preprocessing import StandardScaler"
   ]
  },
  {
   "cell_type": "code",
   "execution_count": null,
   "id": "71640cb8",
   "metadata": {},
   "outputs": [],
   "source": [
    "cd C:\\Users\\brend\\NYCDSA\\Projects\\Aimes-ML-Project\\Aimes-Iowa-ML"
   ]
  },
  {
   "cell_type": "code",
   "execution_count": null,
   "id": "4e821c8b",
   "metadata": {},
   "outputs": [],
   "source": [
    "# running cleaning and manipulation files "
   ]
  },
  {
   "cell_type": "code",
   "execution_count": null,
   "id": "eb370683",
   "metadata": {},
   "outputs": [],
   "source": [
    "run data_cleaning.py"
   ]
  },
  {
   "cell_type": "code",
   "execution_count": null,
   "id": "0bf06b85",
   "metadata": {},
   "outputs": [],
   "source": [
    "run manipulation"
   ]
  },
  {
   "cell_type": "code",
   "execution_count": null,
   "id": "849e21fb",
   "metadata": {},
   "outputs": [],
   "source": [
    "# reading in total df \n",
    "df = pd.read_csv('totaldf.csv')"
   ]
  },
  {
   "cell_type": "markdown",
   "id": "0567352c",
   "metadata": {},
   "source": [
    "## Feature Selections "
   ]
  },
  {
   "cell_type": "code",
   "execution_count": null,
   "id": "078c0e0b",
   "metadata": {},
   "outputs": [],
   "source": [
    "numcat = [\n",
    "    'YearBuilt', 'YrSinceRm',  'BsmtUnfSF' , 'WoodDeckSF', '2ndFlrSF', \n",
    "    'ScreenPorch', 'GrLivArea', 'BsmtFinSF1', 'MasVnrArea', 'LotArea', 'Pool','YearRemodAdd','KitchenQual',\n",
    "    'catUtilities','FullBath','FireplaceQu','TotalBsmtSF',\n",
    "    'GarageArea','ExterQual','GarageCars','1stFlrSF','OverallQual','HalfBath'\n",
    "]    \n",
    "    \n",
    "    \n",
    "    \n",
    "catcat =  [\n",
    "            'Neighborhood', 'MSSubClass', 'Condition1', 'Condition2', 'RoofMatl', 'Exterior1st', \n",
    "            'Exterior2nd', 'HouseStyle', 'GarageType'\n",
    "]\n"
   ]
  },
  {
   "cell_type": "code",
   "execution_count": null,
   "id": "8293bbc9",
   "metadata": {},
   "outputs": [],
   "source": [
    "num_1 = [\n",
    "    'YearBuilt', 'YrSinceRm',  'BsmtUnfSF' , 'WoodDeckSF', '2ndFlrSF', \n",
    "    'ScreenPorch', 'GrLivArea', 'BsmtFinSF1', 'MasVnrArea', 'LotArea', 'Pool','YearRemodAdd','KitchenQual',\n",
    "    'Utilities','FullBath','FireplaceQu','TotalBsmtSF',\n",
    "    'GarageArea','ExterQual','GarageCars','1stFlrSF','OverallQual','HalfBath'\n",
    "             \n",
    "]\n",
    "\n",
    "\n",
    "cat_1 = [\n",
    "            'Neighborhood', 'MSSubClass', 'Condition1', 'Condition2', 'RoofMatl', 'Exterior1st', \n",
    "            'Exterior2nd', 'HouseStyle', 'GarageType'\n",
    "]\n"
   ]
  },
  {
   "cell_type": "code",
   "execution_count": null,
   "id": "64cda688",
   "metadata": {},
   "outputs": [],
   "source": [
    "\n",
    "   \n",
    " \n",
    "    \n",
    "num_cboost = [\n",
    "    'YearBuilt', 'YrSinceRm',  'BsmtUnfSF' , 'WoodDeckSF', '2ndFlrSF', \n",
    "    'ScreenPorch', 'GrLivArea', 'BsmtFinSF1', 'MasVnrArea', 'LotArea', 'Pool','YearRemodAdd','KitchenQual',\n",
    "    'Utilities','FullBath','FireplaceQu','TotalBsmtSF',\n",
    "    'GarageArea','GarageCars','1stFlrSF','OverallQual','HalfBath'\n",
    "             \n",
    "]\n",
    "\n",
    "\n",
    "cat_cboost = [\n",
    "            'Neighborhood', 'MSSubClass', 'Condition1', 'Condition2', 'RoofMatl', 'Exterior1st', \n",
    "            'Exterior2nd', 'HouseStyle', 'GarageType']\n",
    "\n",
    "\n",
    "\n"
   ]
  },
  {
   "cell_type": "code",
   "execution_count": null,
   "id": "fd364e10",
   "metadata": {},
   "outputs": [],
   "source": [
    "\n",
    "numeric_all = ['GrLivArea', 'LotFrontage','LotArea', 'Street', 'LotShape', 'LandContour', 'Utilities', \n",
    "            'LandSlope', 'OverallQual','OverallCond' , 'YearBuilt', 'YearRemodAdd',\n",
    "           'MasVnrArea', 'ExterQual', 'ExterCond', 'BsmtQual', 'BsmtCond', 'BsmtExposure', 'BsmtFinType1', \n",
    "           'BsmtFinSF1', 'BsmtFinType2', 'BsmtFinSF2', 'BsmtUnfSF','TotalBsmtSF', 'HeatingQC', \n",
    "           'CentralAir', 'Electrical', '1stFlrSF', '2ndFlrSF', 'LowQualFinSF', 'BsmtFullBath', \n",
    "           'BsmtHalfBath', 'FullBath', 'HalfBath', 'BedroomAbvGr', 'KitchenAbvGr', 'KitchenQual',\n",
    "           'TotRmsAbvGrd', 'Functional', 'Fireplaces', 'FireplaceQu', 'GarageYrBlt', 'GarageFinish', \n",
    "           'GarageCars', 'GarageArea', 'GarageQual', 'GarageCond', 'PavedDrive', 'WoodDeckSF', 'OpenPorchSF', \n",
    "           'EnclosedPorch', '3SsnPorch', 'ScreenPorch', 'PoolArea', 'MiscVal' , 'MoSold', 'YrSold', \n",
    "           'SaleCondition', 'YrSinceRm', 'Pool', 'Misc', 'BsmtFinTotSF', 'TotalSF', 'IAstateDist', 'AirportDist', 'TotalBath']\n",
    "\n",
    "categorical_all  = ['MSSubClass', 'MSZoning', 'Neighborhood', 'Condition1', 'Condition2', 'BldgType',\n",
    "               'HouseStyle', 'RoofStyle', 'RoofMatl', 'Exterior1st' , 'Exterior2nd', 'MasVnrType',\n",
    "               'Foundation', 'Heating', 'GarageType','SaleType' , 'LotConfig' ,'SchD_S']\n",
    "\n",
    "\n",
    "# note the winners of the first round of Lasso were all numeric \n",
    "# set X = df[lasso1]\n",
    "lasso1 = ['YearBuilt', 'YrSinceRm', 'TotalSF', 'BsmtUnfSF' , 'WoodDeckSF', 'GarageArea', '2ndFlrSF', \n",
    "          'ScreenPorch', 'GrLivArea', 'BsmtFinSF1', 'MasVnrArea', 'LotArea']\n",
    "\n",
    "lasso2 =['Condition2_Pos', 'Neighborhood_GrnHill', 'Neighborhood_StoneBr', 'Pool', 'Exterior1st_VinylSd', 'Utilities',\n",
    "         'MSSubClass_150', 'RoofMatl_wood', 'MSSubClass_50', 'GarageType_None', 'MSSubClass_75', 'SaleType_New', \n",
    "         'Neighborhood_NridgHt', 'MSSubClass_30', 'Exterior1st_Wood', 'Neighborhood_NPkVill', 'MSSubClass_20', \n",
    "         'HouseStyle_SLvl', 'MSSubClass_40', 'Exterior2nd_VinylSd']\n",
    "\n",
    "\n",
    "lasso_combo = lasso1 + lasso2\n",
    "\n",
    "\n",
    "\n",
    "\n",
    "\n",
    "num_2 = ['YearBuilt', 'YrSinceRm', 'TotalSF', 'BsmtUnfSF' , 'WoodDeckSF', 'GarageArea', '2ndFlrSF', \n",
    "          'ScreenPorch', 'GrLivArea', 'BsmtFinSF1', 'MasVnrArea', 'LotArea', 'Pool', 'Utilities']\n",
    "\n",
    "cat_2 = ['Neighborhood', 'MSSubClass', 'Condition1', 'Condition2', 'RoofMatl', 'Exterior1st', \n",
    "         'Exterior2nd', 'HouseStyle', 'GarageType']\n",
    "\n",
    "# seperating dataframe for modeling \n"
   ]
  },
  {
   "cell_type": "code",
   "execution_count": null,
   "id": "a84496b3",
   "metadata": {},
   "outputs": [],
   "source": [
    "catnum = [\n",
    "    'YearBuilt',  'WoodDeckSF', \n",
    "    'ScreenPorch', 'GrLivArea', 'MasVnrArea', 'LotArea', 'Pool','YearRemodAdd','KitchenQual',\n",
    "    'Utilities','FullBath','FireplaceQu','TotalBsmtSF',\n",
    "    'GarageArea','GarageCars','1stFlrSF','OverallQual','HalfBath']\n",
    "    \n",
    "    \n",
    "catcat = [\n",
    "            'Neighborhood', 'MSSubClass', 'Condition1', 'RoofMatl', 'Exterior1st', \n",
    "            'Exterior2nd', 'HouseStyle', 'GarageType']\n"
   ]
  },
  {
   "cell_type": "code",
   "execution_count": null,
   "id": "1f8dabf1",
   "metadata": {},
   "outputs": [],
   "source": [
    "feat_num= ['GrLivArea', 'LotFrontage','LotArea', 'Street', 'LotShape', 'LandContour', 'Utilities', \n",
    "            'LandSlope', 'OverallQual','OverallCond' , 'YearBuilt', 'YearRemodAdd',\n",
    "           'MasVnrArea', 'ExterQual', 'ExterCond', 'BsmtQual', 'BsmtCond', 'BsmtExposure', 'BsmtFinType1', \n",
    "          'BsmtFinSF2', 'BsmtUnfSF','TotalBsmtSF', 'HeatingQC', \n",
    "           'CentralAir',  '1stFlrSF', '2ndFlrSF',  \n",
    "           'BsmtHalfBath', 'HalfBath', 'BedroomAbvGr', 'KitchenAbvGr', 'KitchenQual',\n",
    "           'TotRmsAbvGrd', 'Functional', 'Fireplaces', 'FireplaceQu', 'GarageYrBlt', 'GarageFinish', \n",
    "           'GarageCars', 'GarageArea', 'GarageQual', 'GarageCond', 'WoodDeckSF', 'OpenPorchSF', \n",
    "           'EnclosedPorch', '3SsnPorch', 'ScreenPorch', 'MiscVal' , 'MoSold', 'YrSold', 'SchD_S',\n",
    "           'SaleCondition', 'YrSinceRm', 'Pool', 'Misc', 'BsmtFinTotSF', 'TotalSF', 'IAstateDist', 'AirportDist']\n",
    "\n",
    "\n",
    "\n",
    "\n",
    "feat_cat  = ['MSSubClass', 'MSZoning', 'Neighborhood', 'Condition1', 'Condition2', 'BldgType',\n",
    "               'HouseStyle', 'RoofStyle', 'RoofMatl', 'Exterior1st' , 'Exterior2nd', 'MasVnrType',\n",
    "               'Foundation', 'Heating', 'GarageType','SaleType' , 'LotConfig' ]"
   ]
  },
  {
   "cell_type": "code",
   "execution_count": null,
   "id": "a15c0bc1",
   "metadata": {},
   "outputs": [],
   "source": [
    "feat_num= ['GrLivArea', 'LotFrontage','LotArea', 'Street', 'LotShape', 'LandContour', 'Utilities', \n",
    "            'LandSlope', 'OverallQual','OverallCond' , 'YearBuilt', 'YearRemodAdd',\n",
    "           'MasVnrArea', 'ExterQual', 'ExterCond', 'BsmtQual', 'BsmtCond', 'BsmtExposure', 'BsmtFinType1', \n",
    "          'BsmtFinSF2', 'BsmtUnfSF','TotalBsmtSF', 'HeatingQC', \n",
    "           'CentralAir',  '1stFlrSF',   \n",
    "           'BsmtHalfBath', 'HalfBath', 'BedroomAbvGr', 'KitchenAbvGr', 'KitchenQual',\n",
    "           'TotRmsAbvGrd', 'Functional', 'Fireplaces', 'FireplaceQu', 'GarageYrBlt', 'GarageFinish', \n",
    "           'GarageArea', 'GarageQual', 'GarageCond', 'WoodDeckSF', 'OpenPorchSF', \n",
    "           'EnclosedPorch', '3SsnPorch', 'ScreenPorch', 'MiscVal' , 'MoSold', 'YrSold', 'SchD_S',\n",
    "           'SaleCondition', 'YrSinceRm', 'Pool', 'Misc', 'BsmtFinTotSF', 'TotalSF', 'IAstateDist', 'AirportDist']\n",
    "\n",
    "feat_cat  = ['MSSubClass', 'MSZoning', 'Neighborhood', 'Condition1', 'Condition2', 'BldgType',\n",
    "               'HouseStyle', 'RoofStyle', 'RoofMatl', 'Exterior1st' , 'Exterior2nd', 'MasVnrType',\n",
    "               'Foundation', 'Heating', 'GarageType','SaleType' , 'LotConfig' ]\n"
   ]
  },
  {
   "cell_type": "code",
   "execution_count": null,
   "id": "e16f88a6",
   "metadata": {},
   "outputs": [],
   "source": [
    "numeric_1 = ['GrLivArea', 'LotFrontage','LotArea', 'Street', 'LotShape', 'LandContour', 'Utilities', \n",
    "            'LandSlope', 'OverallQual','OverallCond' , 'YearBuilt', 'YearRemodAdd',\n",
    "           'MasVnrArea', 'ExterQual', 'ExterCond', 'BsmtQual', 'BsmtCond', 'BsmtExposure', 'BsmtFinType1', \n",
    "           'BsmtFinType2', 'BsmtFinSF2', 'BsmtUnfSF', 'HeatingQC', \n",
    "             'Electrical', '1stFlrSF', '2ndFlrSF', 'LowQualFinSF', 'BsmtFullBath', \n",
    "           'FullBath', 'HalfBath', 'BedroomAbvGr', 'KitchenAbvGr', 'KitchenQual',\n",
    "           'TotRmsAbvGrd', 'Functional', 'Fireplaces', 'FireplaceQu', 'GarageFinish', \n",
    "           'GarageCars', 'GarageArea', 'GarageQual',  'PavedDrive', 'WoodDeckSF', \n",
    "           'EnclosedPorch',  'ScreenPorch', 'PoolArea', 'MiscVal' , 'MoSold', 'YrSold', \n",
    "           'SaleCondition', 'YrSinceRm','Pool', 'Misc', 'BsmtFinTotSF', 'IAstateDist', 'AirportDist', 'TotalBath']\n",
    "\n",
    "categorical_1  = ['MSSubClass', 'MSZoning', 'Neighborhood', 'Condition1', 'Condition2', 'BldgType',\n",
    "               'HouseStyle', 'RoofStyle', 'RoofMatl', 'Exterior1st' , 'Exterior2nd', 'MasVnrType',\n",
    "               'Foundation', 'Heating', 'GarageType','SaleType' , 'LotConfig' ]"
   ]
  },
  {
   "cell_type": "code",
   "execution_count": null,
   "id": "8bf9c15e",
   "metadata": {},
   "outputs": [],
   "source": [
    "#     b'BsmtExposu'\n",
    "#      b'LandContou'\n",
    "#       b'GrLivArea'\n",
    "#        b'BsmtCond'\n",
    "#       b'ExterCond'\n",
    "#        b'BsmtQual'\n",
    "#       b'LandSlope'\n",
    "#       b'YearBuilt'\n",
    "#       b'ExterQual'\n",
    "#      b'Neighborho'\n",
    "#     b'LotFrontag'\n",
    "# 11       b'LotArea'\n",
    "# 12    b'OverallCon'\n",
    "# 13     b'HeatingQC'\n",
    "# 14    b'BsmtFinTyp'\n",
    "# 15    b'GarageQual'\n",
    "# 16   b'MasVnrArea'\n",
    "\n",
    "\n",
    "\n",
    "feature_num1 = ['GrLivArea', 'LotFrontage','LotArea',  \n",
    "            'LandSlope', 'OverallQual','OverallCond' , 'YearBuilt', \n",
    "           'MasVnrArea', 'ExterQual', 'ExterCond', 'BsmtQual', 'BsmtCond', 'BsmtExposure', 'BsmtFinType1', \n",
    "          'BsmtFinType2',  'HeatingQC',  \n",
    "           'GarageQual',]\n",
    "\n",
    "feature_cat1  = [\n",
    "            'Neighborhood', 'MSSubClass', 'Condition1', 'RoofMatl', 'Exterior1st', \n",
    "            'Exterior2nd', 'HouseStyle', 'GarageType']"
   ]
  },
  {
   "cell_type": "markdown",
   "id": "5c50fe31",
   "metadata": {},
   "source": [
    "## DUMMIFICATION AND TRAIN TEST SPLIT "
   ]
  },
  {
   "cell_type": "code",
   "execution_count": null,
   "id": "3b80c8c9",
   "metadata": {},
   "outputs": [],
   "source": [
    "df.drop_duplicates()"
   ]
  },
  {
   "cell_type": "code",
   "execution_count": null,
   "id": "be2dc2f1",
   "metadata": {},
   "outputs": [],
   "source": [
    "# input which subset of numeric & categorical variables to be used \n",
    "numeric = numeric_1\n",
    "\n",
    "categorical = categorical_1\n",
    "\n",
    "y = np.log(df['SalePrice'])\n",
    "# DO NOT TOUCH THIS CODE \n",
    "dummies = pd.get_dummies(df[categorical], drop_first=True)\n",
    "\n",
    "X = pd.concat([df[numeric], dummies], axis = 1)\n",
    "\n",
    "# if subsetting use the code below before running tts\n",
    "# X = X[subset]\n",
    "\n",
    "\n",
    "\n",
    "X_train, X_test, y_train, y_test = train_test_split(X, y, test_size=0.30, random_state=42)"
   ]
  },
  {
   "cell_type": "code",
   "execution_count": null,
   "id": "5c7e7af7",
   "metadata": {},
   "outputs": [],
   "source": [
    "### df with removed outliers \n",
    " \n",
    "outlierdf =df.loc[df['SalePrice']< 475000] \n",
    "# input which subset of numeric & categorical variables to be used \n",
    "numeric = numeric_1\n",
    "\n",
    "categorical = categorical_1\n",
    "\n",
    "y1 = np.log(outlierdf['SalePrice'])\n",
    "# DO NOT TOUCH THIS CODE \n",
    "dummies = pd.get_dummies(outlierdf[categorical], drop_first=True)\n",
    "\n",
    "X1 = pd.concat([outlierdf[numeric], dummies], axis = 1)\n",
    "\n",
    "# if subsetting use the code below before running tts\n",
    "# X = X[subset]\n",
    "\n",
    "\n",
    "\n",
    "X_train1, X_test1, y_train1, y_test1 = train_test_split(X1, y1, test_size=0.30, random_state=42)\n",
    "\n",
    "\n",
    "\n",
    "# cat boost with outliers removed\n",
    "cat1 = CatBoostRegressor()\n",
    "cat1.set_params(random_state = 42 ,learning_rate = .1, max_depth = 6 , n_estimators = 500)\n",
    "cat1.fit(X_train1,y_train1)\n",
    "cat1.score(X_test1,y_test1)\n",
    "\n",
    "# cat boost with outliers removed \n",
    "\n",
    "cat1 = CatBoostRegressor()\n",
    "cat1.set_params(random_state = 42 ,learning_rate = .1, max_depth = 6 , n_estimators = 700)\n",
    "cat1.fit(X_train1,y_train1)\n",
    "cat1.score(X_test1,y_test1)"
   ]
  },
  {
   "cell_type": "code",
   "execution_count": null,
   "id": "1c08c6df",
   "metadata": {
    "scrolled": true
   },
   "outputs": [],
   "source": [
    "\n",
    "model = CatBoostRegressor()\n",
    "model.set_params(random_state = 42 ,learning_rate =.1 , max_depth= 6 , n_estimators= 500 )\n",
    "model.fit(X_train, y_train)\n",
    "#preds = model.predict(X_test)\n",
    "model.score(X_test,y_test)"
   ]
  },
  {
   "cell_type": "code",
   "execution_count": null,
   "id": "3512e4b2",
   "metadata": {},
   "outputs": [],
   "source": [
    "# tuned cat boost \n",
    "\n",
    "cat = CatBoostRegressor()\n",
    "cat.set_params(random_state = 42 ,learning_rate = .1, max_depth = 6 , n_estimators = 700)\n",
    "cat.fit(X_train,y_train)\n",
    "cat.score(X_test,y_test)"
   ]
  },
  {
   "cell_type": "code",
   "execution_count": null,
   "id": "4c06ad90",
   "metadata": {},
   "outputs": [],
   "source": [
    "from catboost import CatBoostRegressor"
   ]
  },
  {
   "cell_type": "code",
   "execution_count": null,
   "id": "dabb57fb",
   "metadata": {},
   "outputs": [],
   "source": [
    "# grid searching Cat boost regressor \n",
    "\n",
    "catboost = CatBoostRegressor()\n",
    "parameters2 = {\n",
    "              'learning_rate': [.08,.1,.15],\n",
    "              'max_depth': [4,6,7],\n",
    "               'n_estimators': [500,600,700,900]}\n",
    "                 \n",
    "\n",
    "\n",
    "%time grid_cat = GridSearchCV(catboost, param_grid= parameters2, cv=3, n_jobs=-1).fit(X_train,y_train)"
   ]
  },
  {
   "cell_type": "code",
   "execution_count": null,
   "id": "2a2f9492",
   "metadata": {},
   "outputs": [],
   "source": [
    "# best parameters from grid search\n",
    "grid_cat.best_params_"
   ]
  },
  {
   "cell_type": "code",
   "execution_count": null,
   "id": "15cf9b92",
   "metadata": {
    "scrolled": true
   },
   "outputs": [],
   "source": [
    "# feature importances for Cat boost modelling \n",
    "tree_cat = grid_cat.best_estimator_\n",
    "feature_importance = list(zip(X_train.columns, tree_cat.feature_importances_))\n",
    "dtype = [('feature', 'S10'), ('score', 'float')]\n",
    "feature_importance = np.array(feature_importance, dtype=dtype)\n",
    "sort_X = np.sort(feature_importance, order='score')[::-1]\n",
    "features, score = zip(*list(sort_X))\n",
    "featuredf = pd.DataFrame({'features':features,'score':score})\n",
    "featuredf.features =[str(i) for i in featuredf.features]\n",
    "featuredf.features =[i.replace('b','') for i in featuredf.features]\n",
    "featuredf.features =[i.replace('\\'','') for i in featuredf.features]\n",
    "\n",
    "px.bar(featuredf.head(10), x='features', y='score').show()"
   ]
  },
  {
   "cell_type": "code",
   "execution_count": null,
   "id": "04ee5d17",
   "metadata": {},
   "outputs": [],
   "source": [
    "cat = CatBoostRegressor()\n",
    "cat.set_params(random_state = 42 ,learning_rate = .1, max_depth = 4 , n_estimators = 900)\n",
    "cat.fit(X_train,y_train)\n",
    "cat.score(X_test,y_test)"
   ]
  },
  {
   "cell_type": "code",
   "execution_count": null,
   "id": "b0596aac",
   "metadata": {},
   "outputs": [],
   "source": [
    "model1 = CatBoostRegressor()\n",
    "model1.fit(X_train,\n",
    "          y_train)\n",
    "\n",
    "\n",
    "print(model1.get_best_score())\n",
    "print(model1.score(X_test,y_test))\n",
    "\n",
    "\n",
    "\n",
    "# Gradient Boosting \n",
    "\n",
    "from sklearn.ensemble import  GradientBoostingRegressor\n",
    "from sklearn.metrics import mean_squared_error\n",
    "\n",
    "CatBoostRegressor?\n",
    "\n",
    "from catboost import CatBoostRegressor\n",
    "\n",
    "# Initialize data\n",
    "\n",
    "# Initialize CatBoostRegressor\n",
    "model = CatBoostRegressor()\n",
    "# model.set_params({\n",
    "    \n",
    "# }\n",
    "# )\n",
    "# # Fit model\n",
    "model.fit(X_train, y_train)\n",
    "# Get predictions\n",
    "preds = model.predict(X_test)\n",
    "model.score(X_test,y_test)\n",
    "\n",
    "np.arange(.01,3)\n",
    "\n",
    "import time\n",
    "\n",
    "parameters = {\n",
    "              'learning_rate': [.001,.01,.1,.5,1]\n",
    "              'max_depth': range(1,25),\n",
    "               'n_estimators': [10,20,40,50,80,100,200,250]}\n",
    "                 \n",
    "\n",
    "\n",
    "grid_tree = GridSearchCV(model, param_grid= parameters, cv=3, n_jobs=-1).fit(X_train,y_train)\n",
    "\n",
    "\n",
    "parameters2 = {\n",
    "              'learning_rate': [.08,.09,.1,.12],\n",
    "              'max_depth': [3,4,6,7,8],\n",
    "               'n_estimators': [500,550,600,700,900]}\n",
    "                 \n",
    "\n",
    "\n",
    "%time grid_tree = GridSearchCV(model, param_grid= parameters2, cv=3, n_jobs=-1).fit(X_train,y_train)\n",
    "\n",
    "\n",
    "\n",
    "print(\"The training error  is: {.5f}\".format(1 - randomForest.score(X_train, y_train)))\n",
    "\n",
    "tree_cat = grid_cat.best_estimator_\n",
    "feature_importance = list(zip(X_train.columns, tree_cat.feature_importances_))\n",
    "dtype = [('feature', 'S10'), ('score', 'float')]\n",
    "feature_importance = np.array(feature_importance, dtype=dtype)\n",
    "sort_X = np.sort(feature_importance, order='score')[::-1]\n",
    "features, score = zip(*list(sort_X))\n",
    "featuredf = pd.DataFrame({'features':features,'score':score})\n",
    "featuredf.features =[str(i) for i in featuredf.features]\n",
    "featuredf.features =[i.replace('b','') for i in featuredf.features]\n",
    "featuredf.features =[i.replace('\\'','') for i in featuredf.features]\n",
    "\n",
    "px.bar(featuredf.head(10), x='features', y='score').show()\n",
    "\n",
    "#feature_scoredf.to_csv('featurescoresdf2.csv')\n",
    "px.bar(featuredf.head(10), x='features', y='score')\n",
    "\n",
    "print('Best grid parameters: '+ str(grid_cat.best_params_))\n",
    "print(grid_cat.best_score_)\n",
    "\n",
    "cat = CatBoostRegressor()\n",
    "cat.set_params(random_state = 42 ,learning_rate = .08, max_depth = 4 , n_estimators = 900)\n",
    "cat.fit(X_train,y_train)\n",
    "cat.score(X_test,y_test)\n",
    "\n",
    "cat = CatBoostRegressor()\n",
    "cat.set_params(random_state = 42 ,learning_rate = .1, max_depth = 6 , n_estimators = 700)\n",
    "cat.fit(X_train,y_train)\n",
    "cat.score(X_test,y_test)\n",
    "\n",
    "model = CatBoostRegressor()\n",
    "model.set_params(random_state = 42 ,learning_rate =.1 , max_depth= 6 , n_estimators= 500 )\n",
    "model.fit(X_train, y_train)\n",
    "#preds = model.predict(X_test)\n",
    "model.score(X_test,y_test)"
   ]
  },
  {
   "cell_type": "code",
   "execution_count": null,
   "id": "d39d03c1",
   "metadata": {},
   "outputs": [],
   "source": [
    "# bar graph of most important features \n",
    "px.bar(featuredf.head(10), x='features', y='score').show()"
   ]
  },
  {
   "cell_type": "code",
   "execution_count": null,
   "id": "4375ef31",
   "metadata": {},
   "outputs": [],
   "source": [
    "cat = CatBoostRegressor()\n",
    "cat.set_params(random_state = 42 ,learning_rate = .1, max_depth = 6 , n_estimators = 700)\n",
    "cat.fit(X_train,y_train)\n",
    "cat.score(X_train,y_train)"
   ]
  },
  {
   "cell_type": "code",
   "execution_count": null,
   "id": "d84eed0e",
   "metadata": {
    "scrolled": true
   },
   "outputs": [],
   "source": [
    "# Scatter plot of predicted vs target  values \n",
    "import math \n",
    "y_pred = cat.predict(X_test)\n",
    "y_test =[math.exp(i) for i in y_test]\n",
    "y_pred = [math.exp(i) for i in y_pred]"
   ]
  },
  {
   "cell_type": "code",
   "execution_count": null,
   "id": "48c71b9c",
   "metadata": {},
   "outputs": [],
   "source": [
    "px.scatter(x=y_test,y=y_pred,labels={'x':'Test Target ', 'y':'Model Predictions'})"
   ]
  },
  {
   "cell_type": "markdown",
   "id": "2b1b7f7b",
   "metadata": {},
   "source": [
    "## random forest"
   ]
  },
  {
   "cell_type": "code",
   "execution_count": null,
   "id": "b509976b",
   "metadata": {},
   "outputs": [],
   "source": [
    "randomForest.set_params(random_state=42, n_estimators=100, max_features=70)\n",
    "randomForest.fit(X_train,y_train) # fit \n",
    "randomForest.score(X_train,y_train)\n",
    "randomForest.score(X_test,y_test)"
   ]
  },
  {
   "cell_type": "code",
   "execution_count": null,
   "id": "7a7120b3",
   "metadata": {},
   "outputs": [],
   "source": [
    "from manipulation import * \n",
    "from sklearn import ensemble\n",
    "randomForest = ensemble.RandomForestRegressor()\n",
    "bagging = ensemble.BaggingRegressor()\n"
   ]
  },
  {
   "cell_type": "code",
   "execution_count": null,
   "id": "d7451ff0",
   "metadata": {},
   "outputs": [],
   "source": [
    "randomForest.set_params(random_state=42, n_estimators=100, max_features=20)\n",
    "randomForest.fit(X_train,y_train) \n",
    "randomForest.score(X_train,y_train)\n",
    "randomForest.score(X_test,y_test)\n",
    "\n",
    "# bagging\n",
    "bagging.set_params(n_estimators=50, random_state=42, max_features=20)\n",
    "bagging.fit(X_train, y_train)\n",
    "print(\"The training error is: %.5f\" %(1 - bagging.score(X_train, y_train)))\n",
    "print(\"The test error is: %.5f\" %(1 - bagging.score(X_test, y_test)))\n",
    "print(\"The training accuracy is: %.5f\" %( bagging.score(X_train, y_train)))\n",
    "print(\"The test accuracy is: %.5f\" %(bagging.score(X_test, y_test)))\n",
    "\n",
    "# Random Forest\n",
    "randomForest.set_params(n_estimators=50, random_state=42, max_features=10,oob_score=True)\n",
    "randomForest.fit(X_train, y_train)\n",
    "print(\"The training error  is: %.5f\" %(1 - randomForest.score(X_train, y_train)))\n",
    "print(\"The test error is: %.5f\" %(1 - randomForest.score(X_test, y_test)))\n",
    "print(\"The training accuracy is: %.5f\" %(randomForest.score(X_train, y_train)))\n",
    "print(\"The test accuracy is: %.5f\" %(randomForest.score(X_test, y_test)))\n"
   ]
  },
  {
   "cell_type": "code",
   "execution_count": null,
   "id": "d84651f8",
   "metadata": {},
   "outputs": [],
   "source": [
    "# Grid Search \n",
    "randomForest.set_params(oob_score=True)\n",
    "grid_para_tree = {\n",
    "    'max_depth': range(1, 30),\n",
    "    'n_estimators': range(10, 110, 10),\n",
    "    'min_samples_split': range(2,10,2)\n",
    "    \n",
    "}\n",
    "\n",
    "randomForest.set_params(random_state=0)\n",
    "grid_search_tree = GridSearchCV(randomForest,grid_para_tree,\n",
    "                                scoring='accuracy', cv=5, n_jobs=-1,\n",
    "                                return_train_score=True)\n",
    "%time grid_search_tree.fit(X_train, y_train)\n",
    "\n",
    "# 1 - model.score(X_train, y_train)\n",
    "# 1 - model.score(X_test, y_test)\n",
    "# model.score(X_train, y_train)\n",
    "# model.score(X_test, y_test)\n",
    "\n",
    "print('Best parameters: '+ str(grid_search_tree.best_params_))\n",
    "print(grid_search_tree.best_score_)\n",
    "print(randomForest.oob_score_)"
   ]
  },
  {
   "cell_type": "code",
   "execution_count": null,
   "id": "7f308c8a",
   "metadata": {},
   "outputs": [],
   "source": [
    "# sorting feature importances \n",
    "\n",
    "tree_final = grid_search_tree.best_estimator_\n",
    "feature_importance = list(zip(X_train.columns, tree_final.feature_importances_))\n",
    "dtype = [('feature', 'S10'), ('importance', 'float')]\n",
    "feature_importance = np.array(feature_importance, dtype=dtype)\n",
    "feature_sort = np.sort(feature_importance, order='importance')[::-1]\n",
    "name, score = zip(*list(feature_sort))\n",
    "pd.DataFrame({'name':name,'score':score})[:10].plot.barh(x='name', y='score')"
   ]
  },
  {
   "cell_type": "code",
   "execution_count": null,
   "id": "50edaa09",
   "metadata": {},
   "outputs": [],
   "source": [
    "\n",
    "tree_final = grid_search_tree.best_estimator_\n",
    "feature_importance = list(zip(X_train.columns, tree_final.feature_importances_))\n",
    "dtype = [('feature', 'S10'), ('importance', 'float')]\n",
    "feature_importance = np.array(feature_importance, dtype=dtype)\n",
    "feature_sort = np.sort(feature_importance, order='importance')[::-1]\n",
    "name, score = zip(*list(feature_sort))\n",
    "pd.DataFrame({'name':name,'score':score})[:10].plot.barh(x='name', y='score')"
   ]
  },
  {
   "cell_type": "code",
   "execution_count": null,
   "id": "87c1c30a",
   "metadata": {},
   "outputs": [],
   "source": [
    "px.bar(featuredf,x = 'features',y= 'Score')"
   ]
  }
 ],
 "metadata": {
  "kernelspec": {
   "display_name": "Python 3",
   "language": "python",
   "name": "python3"
  },
  "language_info": {
   "codemirror_mode": {
    "name": "ipython",
    "version": 3
   },
   "file_extension": ".py",
   "mimetype": "text/x-python",
   "name": "python",
   "nbconvert_exporter": "python",
   "pygments_lexer": "ipython3",
   "version": "3.8.8"
  }
 },
 "nbformat": 4,
 "nbformat_minor": 5
}
