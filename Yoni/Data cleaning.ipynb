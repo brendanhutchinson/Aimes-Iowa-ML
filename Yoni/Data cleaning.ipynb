{
 "cells": [
  {
   "cell_type": "code",
   "execution_count": 4,
   "id": "326e605a",
   "metadata": {},
   "outputs": [
    {
     "name": "stderr",
     "output_type": "stream",
     "text": [
      "C:\\Users\\ykorn\\AppData\\Local\\Temp/ipykernel_55736/2556851339.py:24: SettingWithCopyWarning: \n",
      "A value is trying to be set on a copy of a slice from a DataFrame\n",
      "\n",
      "See the caveats in the documentation: https://pandas.pydata.org/pandas-docs/stable/user_guide/indexing.html#returning-a-view-versus-a-copy\n",
      "  HousePriceDF['BsmtQual'][HousePriceDF.Foundation == 'Slab'] = \"None\"\n",
      "C:\\Users\\ykorn\\AppData\\Local\\Temp/ipykernel_55736/2556851339.py:25: SettingWithCopyWarning: \n",
      "A value is trying to be set on a copy of a slice from a DataFrame\n",
      "\n",
      "See the caveats in the documentation: https://pandas.pydata.org/pandas-docs/stable/user_guide/indexing.html#returning-a-view-versus-a-copy\n",
      "  HousePriceDF['BsmtExposure'][HousePriceDF.Foundation == 'Slab'] = \"None\"\n",
      "C:\\Users\\ykorn\\AppData\\Local\\Temp/ipykernel_55736/2556851339.py:26: SettingWithCopyWarning: \n",
      "A value is trying to be set on a copy of a slice from a DataFrame\n",
      "\n",
      "See the caveats in the documentation: https://pandas.pydata.org/pandas-docs/stable/user_guide/indexing.html#returning-a-view-versus-a-copy\n",
      "  HousePriceDF['BsmtCond'][HousePriceDF.Foundation == 'Slab'] = \"None\"\n",
      "C:\\Users\\ykorn\\AppData\\Local\\Temp/ipykernel_55736/2556851339.py:27: SettingWithCopyWarning: \n",
      "A value is trying to be set on a copy of a slice from a DataFrame\n",
      "\n",
      "See the caveats in the documentation: https://pandas.pydata.org/pandas-docs/stable/user_guide/indexing.html#returning-a-view-versus-a-copy\n",
      "  HousePriceDF['BsmtFinType1'][HousePriceDF.Foundation == 'Slab'] = \"None\"\n",
      "C:\\Users\\ykorn\\AppData\\Local\\Temp/ipykernel_55736/2556851339.py:28: SettingWithCopyWarning: \n",
      "A value is trying to be set on a copy of a slice from a DataFrame\n",
      "\n",
      "See the caveats in the documentation: https://pandas.pydata.org/pandas-docs/stable/user_guide/indexing.html#returning-a-view-versus-a-copy\n",
      "  HousePriceDF['BsmtFinType2'][HousePriceDF.Foundation == 'Slab'] = \"None\"\n",
      "C:\\Users\\ykorn\\anaconda3\\lib\\site-packages\\pandas\\core\\indexing.py:719: FutureWarning: Slicing a positional slice with .loc is not supported, and will raise TypeError in a future version.  Use .loc with labels or .iloc with positions instead.\n",
      "  indexer = self._get_setitem_indexer(key)\n",
      "C:\\Users\\ykorn\\anaconda3\\lib\\site-packages\\pandas\\core\\indexing.py:1732: SettingWithCopyWarning: \n",
      "A value is trying to be set on a copy of a slice from a DataFrame\n",
      "\n",
      "See the caveats in the documentation: https://pandas.pydata.org/pandas-docs/stable/user_guide/indexing.html#returning-a-view-versus-a-copy\n",
      "  self._setitem_single_block(indexer, value, name)\n"
     ]
    }
   ],
   "source": [
    "import pandas as pd \n",
    "import numpy as np \n",
    "pd.options.display.max_rows = 100\n",
    "\n",
    "HousePriceDF = pd.read_csv(\"C:/Users/ykorn/Downloads/Ames_HousePrice.csv\")\n",
    "\n",
    "\n",
    "# drop columns with over 98% missing values \n",
    "HousePriceDF=HousePriceDF.drop(['Alley','Fence','MiscFeature','PoolQC'],axis =1 )\n",
    "\n",
    "# impute frontage based on mean for the neighborhood \n",
    "HousePriceDF['LotFrontage'] = HousePriceDF['LotFrontage'].fillna(HousePriceDF.groupby('Neighborhood')['LotFrontage'].transform('mean'))\n",
    "HousePriceDF.loc[HousePriceDF['MSSubClass']==120, ['LotFrontage']].mean()\n",
    "HousePriceDF.loc[HousePriceDF['MSSubClass']==160, ['LotFrontage']].mean()\n",
    "HousePriceDF.iloc[1204,6] = 29.0\n",
    "lotrow = [109,683]\n",
    "HousePriceDF.loc[lotrow,['LotFrontage']]  = 46.0\n",
    "\n",
    "# change FireplaceQu to 'None' for non existent fireplaces \n",
    "HousePriceDF.loc[HousePriceDF[\"Fireplaces\"] == 0, \"FireplaceQu\"] = 'None'\n",
    "\n",
    "\n",
    "# cleaning up the Basement columns \n",
    "HousePriceDF['BsmtQual'][HousePriceDF.Foundation == 'Slab'] = \"None\"\n",
    "HousePriceDF['BsmtExposure'][HousePriceDF.Foundation == 'Slab'] = \"None\"\n",
    "HousePriceDF['BsmtCond'][HousePriceDF.Foundation == 'Slab'] = \"None\"\n",
    "HousePriceDF['BsmtFinType1'][HousePriceDF.Foundation == 'Slab'] = \"None\"\n",
    "HousePriceDF['BsmtFinType2'][HousePriceDF.Foundation == 'Slab'] = \"None\"\n",
    "HousePriceDF.loc[(HousePriceDF['BsmtFinSF1']== 0),32:36] = \"None\"\n",
    "HousePriceDF.iloc[2434,37] = 'Unf'\n",
    "HousePriceDF.iloc[912,32:36] = \"None\"\n",
    "HousePriceDF.iloc[912,32:36] = \"None\"\n",
    "HousePriceDF.loc[(HousePriceDF['BsmtFinSF1']== 0),'BsmtFinType2' ] = \"None\"\n",
    "HousePriceDF.iloc[912,37] = 'None'\n",
    "HousePriceDF.iloc[912,36] = 0\n",
    "HousePriceDF.iloc[912,36] = 0\n",
    "HousePriceDF.iloc[912,38:41] = 0 \n",
    "\n",
    "HousePriceDF.iloc[912,48:50] = 0\n",
    "\n",
    "HousePriceDF.iloc[2308,48:50] = 0\n",
    "\n",
    "HousePriceDF.iloc[2442,44] = 'SBrkr'\n",
    "\n",
    "HousePriceDF.iloc[358,27:29] = 'None'\n",
    "HousePriceDF.iloc[1355,27:29] = 'None'\n",
    "\n",
    "# MasVnrType/Area cleaning \n",
    "HousePriceDF.loc[(HousePriceDF['Exterior2nd']== 'VinylSd' )&(HousePriceDF.MasVnrType.isna()==True), ['MasVnrType' ]] = 'None'\n",
    "HousePriceDF.loc[(HousePriceDF['Exterior2nd']== 'VinylSd' )&(HousePriceDF.MasVnrType.isna()==True), ['MasVnrArea' ]] = 0\n",
    "# Electrical cleaning\n",
    "HousePriceDF.iloc[2442,44] = 'SBrkr'\n",
    "\n",
    "\n",
    "\n",
    "\n",
    "# cleaning up the Garage columns \n",
    "HousePriceDF['GarageType'].iloc[433] = \"None\"\n",
    "\n",
    "HousePriceDF['GarageCars'].iloc[433] = 0.0 \t#maintain float\n",
    "\n",
    "HousePriceDF['GarageArea'].iloc[433] = 0.0  #maintain float \n",
    "\n",
    "HousePriceDF[\"GarageYrBlt\"].iloc[531] = 1983\n",
    "\n",
    "HousePriceDF[\"GarageFinish\"].iloc[531] = \"Unf\"\n",
    "\n",
    "HousePriceDF[\"GarageQual\"].iloc[531] = \"TA\"\n",
    "\n",
    "HousePriceDF[\"GarageCond\"].iloc[531] = \"TA\"\n",
    "\n",
    "\n",
    "# replace emtpy GarageYrBlt with YearBuilt for missing garages to maintin float \n",
    "HousePriceDF['GarageYrBlt'].fillna(HousePriceDF['YearBuilt'], inplace=True)\n",
    "\n",
    "\n",
    "# DO NOT UNCOMMENT THIS UNTIL SURE WE ARE DONE IMPUTING \n",
    "HousePriceDF.fillna('None', inplace=True)\n"
   ]
  },
  {
   "cell_type": "code",
   "execution_count": 7,
   "id": "7b27580f",
   "metadata": {},
   "outputs": [
    {
     "data": {
      "text/plain": [
       "Index(['Unnamed: 0', 'PID', 'GrLivArea', 'SalePrice', 'MSSubClass', 'MSZoning',\n",
       "       'LotFrontage', 'LotArea', 'Street', 'LotShape', 'LandContour',\n",
       "       'Utilities', 'LotConfig', 'LandSlope', 'Neighborhood', 'Condition1',\n",
       "       'Condition2', 'BldgType', 'HouseStyle', 'OverallQual', 'OverallCond',\n",
       "       'YearBuilt', 'YearRemodAdd', 'RoofStyle', 'RoofMatl', 'Exterior1st',\n",
       "       'Exterior2nd', 'MasVnrType', 'MasVnrArea', 'ExterQual', 'ExterCond',\n",
       "       'Foundation', 'BsmtQual', 'BsmtCond', 'BsmtExposure', 'BsmtFinType1',\n",
       "       'BsmtFinSF1', 'BsmtFinType2', 'BsmtFinSF2', 'BsmtUnfSF', 'TotalBsmtSF',\n",
       "       'Heating', 'HeatingQC', 'CentralAir', 'Electrical', '1stFlrSF',\n",
       "       '2ndFlrSF', 'LowQualFinSF', 'BsmtFullBath', 'BsmtHalfBath', 'FullBath',\n",
       "       'HalfBath', 'BedroomAbvGr', 'KitchenAbvGr', 'KitchenQual',\n",
       "       'TotRmsAbvGrd', 'Functional', 'Fireplaces', 'FireplaceQu', 'GarageType',\n",
       "       'GarageYrBlt', 'GarageFinish', 'GarageCars', 'GarageArea', 'GarageQual',\n",
       "       'GarageCond', 'PavedDrive', 'WoodDeckSF', 'OpenPorchSF',\n",
       "       'EnclosedPorch', '3SsnPorch', 'ScreenPorch', 'PoolArea', 'MiscVal',\n",
       "       'MoSold', 'YrSold', 'SaleType', 'SaleCondition'],\n",
       "      dtype='object')"
      ]
     },
     "execution_count": 7,
     "metadata": {},
     "output_type": "execute_result"
    }
   ],
   "source": [
    "HousePriceDF.columns"
   ]
  },
  {
   "cell_type": "code",
   "execution_count": 19,
   "id": "d538e746",
   "metadata": {},
   "outputs": [
    {
     "data": {
      "text/plain": [
       "0.30902144005650767"
      ]
     },
     "execution_count": 19,
     "metadata": {},
     "output_type": "execute_result"
    }
   ],
   "source": [
    "from sklearn.model_selection import train_test_split\n",
    "from sklearn.metrics import r2_score\n",
    "from sklearn.metrics import mean_squared_error\n",
    "import pandas\n",
    "from sklearn import linear_model\n",
    "X = HousePriceDF[['YearBuilt']]\n",
    "y = HousePriceDF['SalePrice']\n",
    "# splitting the data\n",
    "x_train, x_test, y_train, y_test = train_test_split(X, y, test_size = 0.2, random_state = 42)\n",
    "\n",
    "regr = linear_model.LinearRegression()\n",
    "regr.fit(X, y)\n",
    "yprect = regr.predict(x_test)\n",
    "\n",
    "r2_score(y_test,yprect)\n",
    "\n",
    "# # predicting the accuracy score\n",
    "# score=r2_score(y_test,y_prediction)\n",
    "# print(‘r2 socre is ‘,score)\n",
    "# print(‘mean_sqrd_error is==’,mean_squared_error(y_test,y_prediction))\n",
    "# print(‘root_mean_squared error of is==’,np.sqrt(mean_squared_error(y_test,y_prediction)))"
   ]
  },
  {
   "cell_type": "code",
   "execution_count": 20,
   "id": "1ec92d50",
   "metadata": {},
   "outputs": [],
   "source": [
    "HousePriceDF.Street = HousePriceDF.Street.map({'Pave': 1, 'Grvl':0})\n",
    "\n",
    "HousePriceDF.LotShape = HousePriceDF.LotShape.apply(lambda x: 1 if x == 'Reg' else 0)\n",
    "\n",
    "HousePriceDF.LandContour = HousePriceDF.LandContour.apply(lambda x: 1 if x == 'Lvl' else 0)\n",
    "\n",
    "HousePriceDF.Utilities = HousePriceDF.Utilities.apply(lambda x: 1 if x == 'AllPub' else 0)\n",
    "\n",
    "HousePriceDF.LandSlope = HousePriceDF.LandSlope.apply(lambda x: 1 if x == 'Gtl' else 0)\n",
    "\n",
    "HousePriceDF.CentralAir = HousePriceDF.CentralAir.map({'Y': 1, 'N':0})\n",
    "\n",
    "HousePriceDF.Electrical = HousePriceDF.Electrical.apply(lambda x: 1 if x == 'SBrkr' else 0)\n",
    "\n",
    "HousePriceDF.PavedDrive = HousePriceDF.PavedDrive.apply(lambda x: 1 if x == 'Y' else 0)\n",
    "\n",
    "HousePriceDF.SaleCondition = HousePriceDF.SaleCondition.apply(lambda x: 1 if x == 'Normal' else 0)\n",
    "\n",
    "\n",
    "\n",
    "# Encoding Bsmt columns \n",
    "BsmtCondDict = {'None':0,'Po':1,'Fa':2,'TA':3,'Gd':4,'Ex':5}\n",
    "HousePriceDF.replace({\"BsmtCond\": BsmtCondDict},inplace=True)\n",
    "HousePriceDF.replace({\"BsmtQual\": BsmtCondDict},inplace=True)\n",
    "\n",
    "BsmtFinType = {'None':0,'Unf':1,'LwQ':2,'Rec':3,'BLQ':4,'ALQ':5,'GLQ':6}\n",
    "HousePriceDF.replace({\"BsmtFinType1\": BsmtFinType,'BsmtFinType2':BsmtFinType},inplace=True)\n",
    "\n",
    "BsmtExpDict = {'None':0,'No': 1,'Mn':2,'Av':3,'Gd':4}\n",
    "HousePriceDF.replace({\"BsmtExposure\": BsmtExpDict},inplace=True)\n",
    "\n",
    "#Encoding Kitchen Quality \n",
    "\n",
    "QualDict = {'Po':0,'Fa':1,'TA':2,'Gd':3,'Ex':4}\n",
    "HousePriceDF.replace({\"KitchenQual\": QualDict},inplace=True)\n",
    "\n",
    "# Encoding Heating QC \n",
    "\n",
    "HousePriceDF.replace({\"HeatingQC\": QualDict},inplace=True)\n",
    "\n",
    "# Encoding Garage Qual/Condition\n",
    "\n",
    "GarageQDict = {'None': 0,'Po':0,'Fa':1,'TA':2,'Gd':3,'Ex':4}\n",
    "HousePriceDF.replace({\"GarageQual\": GarageQDict, 'GarageCond':GarageQDict},inplace=True)\n",
    "GarageFinDict = {'None':0, 'Unf':1,'RFn':2,\"Fin\":3}\n",
    "HousePriceDF.replace({\"GarageFinish\": GarageFinDict},inplace=True)\n",
    "\n",
    "# Encoding Exterior Quality \n",
    "\n",
    "HousePriceDF.replace({\"ExterQual\": QualDict,'ExterCond':QualDict},inplace=True)\n",
    "\n",
    "# Encoding Fireplace columns \n",
    "\n",
    "\n",
    "HousePriceDF.replace({\"FireplaceQu\": GarageQDict},inplace=True)"
   ]
  },
  {
   "cell_type": "code",
   "execution_count": 29,
   "id": "d14b6939",
   "metadata": {},
   "outputs": [
    {
     "data": {
      "text/plain": [
       "array(['Norm', 'PosN', 'Feedr', 'Artery', 'PosA', 'RRNn', 'RRAn', 'RRAe'],\n",
       "      dtype=object)"
      ]
     },
     "execution_count": 29,
     "metadata": {},
     "output_type": "execute_result"
    }
   ],
   "source": [
    "HousePriceDF['Condition2'].unique()"
   ]
  },
  {
   "cell_type": "code",
   "execution_count": 35,
   "id": "f8c756ac",
   "metadata": {},
   "outputs": [
    {
     "data": {
      "text/plain": [
       "WD       2392\n",
       "New        79\n",
       "COD        50\n",
       "ConLD      23\n",
       "CWD        11\n",
       "ConLw       8\n",
       "ConLI       7\n",
       "Con         5\n",
       "Oth         4\n",
       "VWD         1\n",
       "Name: SaleType, dtype: int64"
      ]
     },
     "execution_count": 35,
     "metadata": {},
     "output_type": "execute_result"
    }
   ],
   "source": [
    "HousePriceDF.SaleType.value_counts()"
   ]
  },
  {
   "cell_type": "code",
   "execution_count": 74,
   "id": "860414d5",
   "metadata": {},
   "outputs": [],
   "source": [
    "SaleTypeDict = {'New':'New','COD':'COD','ConLD':'Con','CWD':'WD','ConLI':'Con','Con':'Con','Oth':'Con','VWD':'WD','ConLw':'Con','WD ':'WD'}\n",
    "HousePriceDF.replace({\"SaleType\": SaleTypeDict},inplace = True)\n"
   ]
  },
  {
   "cell_type": "code",
   "execution_count": 64,
   "id": "ccd1677b",
   "metadata": {},
   "outputs": [],
   "source": [
    "HousePriceDF['MSSubClass'] = HousePriceDF['MSSubClass'].astype('str')"
   ]
  },
  {
   "cell_type": "code",
   "execution_count": 77,
   "id": "3649c02c",
   "metadata": {},
   "outputs": [
    {
     "data": {
      "text/plain": [
       "0    1241\n",
       "1    1132\n",
       "2     195\n",
       "3      11\n",
       "4       1\n",
       "Name: Fireplaces, dtype: int64"
      ]
     },
     "execution_count": 77,
     "metadata": {},
     "output_type": "execute_result"
    }
   ],
   "source": [
    "HousePriceDF.Fireplaces.value_counts()"
   ]
  },
  {
   "cell_type": "code",
   "execution_count": 75,
   "id": "18e4fe7f",
   "metadata": {},
   "outputs": [],
   "source": [
    "MSZoningDict = {'RL':'RL', 'C (all)':'Other', 'RM':'RM', 'FV':'FV', 'RH':'RH', 'I (all)':'Other', 'A (agr)':'Other'}\n",
    "HousePriceDF.replace({\"MSZoning\":MSZoningDict},inplace = True)\n"
   ]
  },
  {
   "cell_type": "code",
   "execution_count": 84,
   "id": "e1b230c4",
   "metadata": {},
   "outputs": [],
   "source": [
    "#replacing Houses with 3 and 4 fireplaces to 2\n",
    "#Represented as 2 and not '2+' so that all values remain numeric\n",
    "FireplacesDict = {0:0,1:1,2:2,3:2,4:2}\n",
    "HousePriceDF.replace({\"Fireplaces\": FireplacesDict}, inplace=True)"
   ]
  },
  {
   "cell_type": "code",
   "execution_count": 97,
   "id": "d46ea06c",
   "metadata": {},
   "outputs": [],
   "source": [
    "tbdummified = ( 'MSSubClass', \n",
    "'MSZoning',\n",
    "'Neighberhood','LotConfig','Condition1',\n",
    "'Condition2','Exterior1st',\n",
    "'Exterior2nd','BldgType', 'HouseStyle','RoofStyle',\n",
    "'MasVnrType','Heating','Functional',\n",
    "'GarageType','Foundation','Fireplaces')\n",
    "tbdropped = ('MiscVal','Unnamed: 0')"
   ]
  },
  {
   "cell_type": "code",
   "execution_count": 96,
   "id": "09b5a61b",
   "metadata": {},
   "outputs": [
    {
     "data": {
      "text/plain": [
       "0       3\n",
       "1       6\n",
       "2       5\n",
       "3       0\n",
       "4       6\n",
       "       ..\n",
       "2575    0\n",
       "2576    0\n",
       "2577    4\n",
       "2578    6\n",
       "2579    6\n",
       "Name: BsmtFinType1, Length: 2580, dtype: int64"
      ]
     },
     "execution_count": 96,
     "metadata": {},
     "output_type": "execute_result"
    }
   ],
   "source": [
    "HousePriceDF.BsmtFinType1"
   ]
  },
  {
   "cell_type": "code",
   "execution_count": null,
   "id": "d628c6bb",
   "metadata": {},
   "outputs": [],
   "source": []
  }
 ],
 "metadata": {
  "kernelspec": {
   "display_name": "Python 3 (ipykernel)",
   "language": "python",
   "name": "python3"
  },
  "language_info": {
   "codemirror_mode": {
    "name": "ipython",
    "version": 3
   },
   "file_extension": ".py",
   "mimetype": "text/x-python",
   "name": "python",
   "nbconvert_exporter": "python",
   "pygments_lexer": "ipython3",
   "version": "3.9.7"
  }
 },
 "nbformat": 4,
 "nbformat_minor": 5
}
